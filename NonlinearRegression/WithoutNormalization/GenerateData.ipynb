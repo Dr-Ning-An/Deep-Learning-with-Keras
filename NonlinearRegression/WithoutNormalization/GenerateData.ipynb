{
  "nbformat": 4,
  "nbformat_minor": 0,
  "metadata": {
    "colab": {
      "provenance": []
    },
    "kernelspec": {
      "name": "python3",
      "display_name": "Python 3"
    },
    "language_info": {
      "name": "python"
    }
  },
  "cells": [
    {
      "cell_type": "markdown",
      "source": [
        "### Create data"
      ],
      "metadata": {
        "id": "FNwfdR_O6KqW"
      }
    },
    {
      "cell_type": "code",
      "execution_count": 4,
      "metadata": {
        "colab": {
          "base_uri": "https://localhost:8080/",
          "height": 53
        },
        "id": "ShyXavu5jjda",
        "outputId": "49e2d026-b0d2-46f8-d6f3-7fef650bf3a4"
      },
      "outputs": [
        {
          "output_type": "stream",
          "name": "stdout",
          "text": [
            "[1.93949395 1.08980898 1.23982398 ... 1.32643264 1.98459846 1.27322732]\n",
            "[1.09370937 1.93559356 1.22932293 ... 1.13441344 1.72937294 1.12891289]\n"
          ]
        },
        {
          "output_type": "display_data",
          "data": {
            "text/plain": [
              "<IPython.core.display.Javascript object>"
            ],
            "application/javascript": [
              "\n",
              "    async function download(id, filename, size) {\n",
              "      if (!google.colab.kernel.accessAllowed) {\n",
              "        return;\n",
              "      }\n",
              "      const div = document.createElement('div');\n",
              "      const label = document.createElement('label');\n",
              "      label.textContent = `Downloading \"${filename}\": `;\n",
              "      div.appendChild(label);\n",
              "      const progress = document.createElement('progress');\n",
              "      progress.max = size;\n",
              "      div.appendChild(progress);\n",
              "      document.body.appendChild(div);\n",
              "\n",
              "      const buffers = [];\n",
              "      let downloaded = 0;\n",
              "\n",
              "      const channel = await google.colab.kernel.comms.open(id);\n",
              "      // Send a message to notify the kernel that we're ready.\n",
              "      channel.send({})\n",
              "\n",
              "      for await (const message of channel.messages) {\n",
              "        // Send a message to notify the kernel that we're ready.\n",
              "        channel.send({})\n",
              "        if (message.buffers) {\n",
              "          for (const buffer of message.buffers) {\n",
              "            buffers.push(buffer);\n",
              "            downloaded += buffer.byteLength;\n",
              "            progress.value = downloaded;\n",
              "          }\n",
              "        }\n",
              "      }\n",
              "      const blob = new Blob(buffers, {type: 'application/binary'});\n",
              "      const a = document.createElement('a');\n",
              "      a.href = window.URL.createObjectURL(blob);\n",
              "      a.download = filename;\n",
              "      div.appendChild(a);\n",
              "      a.click();\n",
              "      div.remove();\n",
              "    }\n",
              "  "
            ]
          },
          "metadata": {}
        },
        {
          "output_type": "display_data",
          "data": {
            "text/plain": [
              "<IPython.core.display.Javascript object>"
            ],
            "application/javascript": [
              "download(\"download_766664fc-9cc7-4bf4-81a1-86b5bb7c1ad6\", \"Data.csv\", 744004)"
            ]
          },
          "metadata": {}
        }
      ],
      "source": [
        "import numpy as np\n",
        "from google.colab import files\n",
        "np.random.seed(1234)\n",
        "n = 10000 # size of data \n",
        "x = np.linspace(1, 2, n) # Coordinate\n",
        "q = np.linspace(1, 2, n) # Distributed load\n",
        "u = np.zeros(n) # Displacement\n",
        "kappa = np.zeros(n) # Curvature\n",
        "from sklearn.utils import shuffle\n",
        "x = shuffle(x, random_state=0)\n",
        "print(x)\n",
        "q = shuffle(q, random_state=10)\n",
        "print(q)\n",
        "# parameters\n",
        "L = 10 # m\n",
        "EI = 10E6 # kN m2\n",
        "file = open('Data.csv', 'w')\n",
        "file.write('Coordinate x [m]' + ',' + 'Distributed load q [kN/m]' + ',' + 'Displacement u [m]' + ',' + 'Curvature kappa [m-1]' + '\\n')\n",
        "for i in range(n):\n",
        "    u[i] = q[i]*x[i]**3\n",
        "    kappa[i] = q[i]*x[i]*6\n",
        "    file.write(str(x[i]) + ',' + str(q[i]) + ',' + str(u[i]) + ',' + str(kappa[i]) + '\\n')\n",
        "file.close()\n",
        "files.download('Data.csv') "
      ]
    },
    {
      "cell_type": "markdown",
      "source": [],
      "metadata": {
        "id": "xgPDPiQT6J3h"
      }
    }
  ]
}
