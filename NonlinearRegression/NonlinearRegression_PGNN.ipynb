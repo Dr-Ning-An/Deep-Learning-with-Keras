{
  "nbformat": 4,
  "nbformat_minor": 0,
  "metadata": {
    "colab": {
      "provenance": []
    },
    "kernelspec": {
      "name": "python3",
      "display_name": "Python 3"
    },
    "language_info": {
      "name": "python"
    }
  },
  "cells": [
    {
      "cell_type": "markdown",
      "source": [
        "### Download Data"
      ],
      "metadata": {
        "id": "T3tbTT37PHMJ"
      }
    },
    {
      "cell_type": "code",
      "execution_count": 1,
      "metadata": {
        "colab": {
          "base_uri": "https://localhost:8080/"
        },
        "id": "B23Dh_kzO-Mn",
        "outputId": "02f56886-6876-4ea0-ade1-0fb8cbad432b"
      },
      "outputs": [
        {
          "output_type": "execute_result",
          "data": {
            "text/plain": [
              "(10000, 4)"
            ]
          },
          "metadata": {},
          "execution_count": 1
        }
      ],
      "source": [
        "import pandas as pd\n",
        "import numpy as np\n",
        "# read data to pandas frame\n",
        "url = 'https://raw.githubusercontent.com/Dr-Ning-An/Deep-Learning-with-Keras/main/NonlinearRegression/Data.csv'\n",
        "data = pd.read_csv(url)\n",
        "data.shape\n",
        "# print(data.head(5))"
      ]
    },
    {
      "cell_type": "code",
      "source": [
        "inputs = data.iloc[:, 0:2]\n",
        "n_inputs = inputs.shape[1]\n",
        "print(inputs.head(5))\n",
        "outputs = data.iloc[:, 2:4]\n",
        "n_outputs = outputs.shape[1]\n",
        "print(outputs.head(5))"
      ],
      "metadata": {
        "colab": {
          "base_uri": "https://localhost:8080/"
        },
        "id": "BOYYshoKnWV9",
        "outputId": "b8f4012b-55d8-4b03-e138-f433c8f0f72d"
      },
      "execution_count": 2,
      "outputs": [
        {
          "output_type": "stream",
          "name": "stdout",
          "text": [
            "   Coordinate x [m]  Distributed load q [kN/m]\n",
            "0          1.939494                   1.093709\n",
            "1          1.089809                   1.935594\n",
            "2          1.239824                   1.229323\n",
            "3          1.590659                   1.019202\n",
            "4          1.234323                   1.867587\n",
            "   Displacement u [m]  Curvature kappa [m-1]\n",
            "0            7.979345              12.727456\n",
            "1            2.505332              12.656563\n",
            "2            2.342859               9.144864\n",
            "3            4.101961               9.727217\n",
            "4            3.512107              13.831237\n"
          ]
        }
      ]
    },
    {
      "cell_type": "code",
      "source": [
        "from sklearn.model_selection import train_test_split\n",
        "# Randomly split the data into a training and test sets by holding 30% of the data for testing.\n",
        "inputs_train, inputs_test, outputs_train, outputs_test = train_test_split(inputs, outputs, test_size = 0.3, random_state=0)"
      ],
      "metadata": {
        "id": "i-DWvwKfXlkW"
      },
      "execution_count": 3,
      "outputs": []
    },
    {
      "cell_type": "code",
      "source": [
        "import keras\n",
        "from keras.layers import Dense\n",
        "import tensorflow as tf\n",
        "\n",
        "# define regression model using Functional API\n",
        "def build_model():\n",
        "    # create model\n",
        "    inputs = tf.keras.Input(shape=(n_inputs,), dtype=tf.float64)\n",
        "    dense1 = Dense(128, activation='tanh')(inputs)\n",
        "    dense2 = Dense(64, activation='tanh')(dense1)\n",
        "    dense3 = Dense(32, activation='tanh')(dense2)\n",
        "    dense4 = Dense(16, activation='tanh')(dense3)\n",
        "    outputs = Dense(n_outputs)(dense4)\n",
        "    \n",
        "    model = tf.keras.Model(inputs=inputs, outputs=outputs)\n",
        "    return model"
      ],
      "metadata": {
        "id": "CR_1dj00hfLw"
      },
      "execution_count": 4,
      "outputs": []
    },
    {
      "cell_type": "code",
      "source": [
        "# build the model\n",
        "model = build_model()\n",
        "model.summary()"
      ],
      "metadata": {
        "colab": {
          "base_uri": "https://localhost:8080/"
        },
        "id": "jriaT_zRh6IU",
        "outputId": "fc39575e-bcce-40fa-d263-e06b975cdbc8"
      },
      "execution_count": 5,
      "outputs": [
        {
          "output_type": "stream",
          "name": "stdout",
          "text": [
            "Model: \"model\"\n",
            "_________________________________________________________________\n",
            " Layer (type)                Output Shape              Param #   \n",
            "=================================================================\n",
            " input_1 (InputLayer)        [(None, 2)]               0         \n",
            "                                                                 \n",
            " dense (Dense)               (None, 128)               384       \n",
            "                                                                 \n",
            " dense_1 (Dense)             (None, 64)                8256      \n",
            "                                                                 \n",
            " dense_2 (Dense)             (None, 32)                2080      \n",
            "                                                                 \n",
            " dense_3 (Dense)             (None, 16)                528       \n",
            "                                                                 \n",
            " dense_4 (Dense)             (None, 2)                 34        \n",
            "                                                                 \n",
            "=================================================================\n",
            "Total params: 11,282\n",
            "Trainable params: 11,282\n",
            "Non-trainable params: 0\n",
            "_________________________________________________________________\n"
          ]
        }
      ]
    },
    {
      "cell_type": "code",
      "source": [
        "optimizer = tf.keras.optimizers.Adam()"
      ],
      "metadata": {
        "id": "6lEwSiJLiDYV"
      },
      "execution_count": 6,
      "outputs": []
    },
    {
      "cell_type": "code",
      "source": [
        "BATCH_SIZE = 60\n",
        "EPOCHS = 200"
      ],
      "metadata": {
        "id": "Y0ThBDGqiF7t"
      },
      "execution_count": 7,
      "outputs": []
    },
    {
      "cell_type": "code",
      "source": [
        "dataset = tf.data.Dataset.from_tensor_slices((inputs_train, outputs_train))\n",
        "dataset = dataset.batch(BATCH_SIZE)"
      ],
      "metadata": {
        "id": "_fhVLY2piK4H"
      },
      "execution_count": 8,
      "outputs": []
    },
    {
      "cell_type": "code",
      "source": [
        "def PGNN(x, q):\n",
        "    x = tf.Variable(x)\n",
        "    q = tf.Variable(q)\n",
        "    with tf.GradientTape() as g:\n",
        "      g.watch(x)\n",
        "      with tf.GradientTape() as gg:\n",
        "        gg.watch(x)\n",
        "        outputs_pred = tf.cast(model(tf.stack([x,q], axis=1)), tf.float64)\n",
        "        u = outputs_pred[:,0]\n",
        "      du_dx = gg.gradient(u, x)  \n",
        "    d2u_dx2 = g.gradient(du_dx, x)  \n",
        "\n",
        "    kappa = outputs_pred[:,1]\n",
        "    \n",
        "    residual = d2u_dx2 - kappa\n",
        "\n",
        "    return residual\n",
        "\n",
        "def train_step(inputs, outputs):\n",
        "    with tf.GradientTape() as tape:\n",
        "        outputs_pred = tf.cast(model(inputs), tf.float64)\n",
        "        residual = PGNN(inputs[:,0],inputs[:,1])\n",
        "        loss1 = tf.losses.MeanSquaredError()(outputs, outputs_pred) \n",
        "        loss2 = tf.reduce_mean(tf.square(residual))\n",
        "        loss = loss1 + loss2\n",
        "\n",
        "    grads = tape.gradient(loss, model.trainable_weights)\n",
        "    optimizer.apply_gradients(zip(grads, model.trainable_weights))\n",
        "    return loss\n",
        "\n",
        "loss_hist = []\n",
        "for epoch in range(EPOCHS):\n",
        "    ep_loss = []\n",
        "    for step, (inputs_norm_train_batch, outputs_norm_train_batch) in enumerate(dataset):\n",
        "        loss_i = train_step(inputs_norm_train_batch, outputs_norm_train_batch)\n",
        "        ep_loss.append(loss_i)\n",
        "\n",
        "    if epoch % 1 == 0:\n",
        "        print(f\"Epoch {epoch} Loss: {tf.reduce_mean(ep_loss)}\")"
      ],
      "metadata": {
        "colab": {
          "base_uri": "https://localhost:8080/"
        },
        "id": "uAMmUdG5iT_1",
        "outputId": "1eceec14-84ce-4db5-f31b-241ba00c674f"
      },
      "execution_count": 9,
      "outputs": [
        {
          "output_type": "stream",
          "name": "stdout",
          "text": [
            "Epoch 0 Loss: 73.76700599467839\n",
            "Epoch 1 Loss: 45.62852039825756\n",
            "Epoch 2 Loss: 28.676455381309136\n",
            "Epoch 3 Loss: 18.80901364244619\n",
            "Epoch 4 Loss: 14.827245861029658\n",
            "Epoch 5 Loss: 13.322682843587504\n",
            "Epoch 6 Loss: 10.955906778039806\n",
            "Epoch 7 Loss: 8.940944005795831\n",
            "Epoch 8 Loss: 7.312992086228137\n",
            "Epoch 9 Loss: 7.085952375521294\n",
            "Epoch 10 Loss: 5.285859128383625\n",
            "Epoch 11 Loss: 5.408859245568283\n",
            "Epoch 12 Loss: 4.676660736914265\n",
            "Epoch 13 Loss: 3.3632859704739575\n",
            "Epoch 14 Loss: 8.438764690349402\n",
            "Epoch 15 Loss: 3.5115369799380503\n",
            "Epoch 16 Loss: 3.00939362786487\n",
            "Epoch 17 Loss: 4.013289753317469\n",
            "Epoch 18 Loss: 1.8187492484410996\n",
            "Epoch 19 Loss: 2.3762048272790155\n",
            "Epoch 20 Loss: 2.1076036383924546\n",
            "Epoch 21 Loss: 10.164446498760874\n",
            "Epoch 22 Loss: 3.529554849582007\n",
            "Epoch 23 Loss: 2.2422540327148672\n",
            "Epoch 24 Loss: 1.8982720533996185\n",
            "Epoch 25 Loss: 1.221826606746791\n",
            "Epoch 26 Loss: 0.7518362853550309\n",
            "Epoch 27 Loss: 0.5698797771163892\n",
            "Epoch 28 Loss: 0.6129227678428685\n",
            "Epoch 29 Loss: 0.44015002055694347\n",
            "Epoch 30 Loss: 0.3411197851277602\n",
            "Epoch 31 Loss: 0.879542979722616\n",
            "Epoch 32 Loss: 0.29179936111120586\n",
            "Epoch 33 Loss: 0.1724705709076188\n",
            "Epoch 34 Loss: 0.23409378752285845\n",
            "Epoch 35 Loss: 0.220808822809977\n",
            "Epoch 36 Loss: 0.1734985911789033\n",
            "Epoch 37 Loss: 0.12622609081768377\n",
            "Epoch 38 Loss: 0.1162714023098346\n",
            "Epoch 39 Loss: 0.14816484413804085\n",
            "Epoch 40 Loss: 0.11366201759097508\n",
            "Epoch 41 Loss: 0.133421993466278\n",
            "Epoch 42 Loss: 0.11840494713738146\n",
            "Epoch 43 Loss: 0.107610894396886\n",
            "Epoch 44 Loss: 0.10412001653082582\n",
            "Epoch 45 Loss: 0.10463899635842508\n",
            "Epoch 46 Loss: 0.08409987207740664\n",
            "Epoch 47 Loss: 0.07756933132602636\n",
            "Epoch 48 Loss: 0.05631768660547579\n",
            "Epoch 49 Loss: 0.10144468487321415\n",
            "Epoch 50 Loss: 0.2560103282194529\n",
            "Epoch 51 Loss: 0.03675000775857833\n",
            "Epoch 52 Loss: 0.06560309763274273\n",
            "Epoch 53 Loss: 0.06633369269634236\n",
            "Epoch 54 Loss: 0.06064417733339026\n",
            "Epoch 55 Loss: 0.06767540711896125\n",
            "Epoch 56 Loss: 0.0472676967803808\n",
            "Epoch 57 Loss: 0.059662403902581235\n",
            "Epoch 58 Loss: 0.04394533485327475\n",
            "Epoch 59 Loss: 0.05201898025946077\n",
            "Epoch 60 Loss: 0.05179498522089011\n",
            "Epoch 61 Loss: 0.08077821881187895\n",
            "Epoch 62 Loss: 0.04669509403097897\n",
            "Epoch 63 Loss: 0.03473212723836153\n",
            "Epoch 64 Loss: 0.21052470503362808\n",
            "Epoch 65 Loss: 0.0900168407504713\n",
            "Epoch 66 Loss: 0.037141344688988796\n",
            "Epoch 67 Loss: 0.02377191538959874\n",
            "Epoch 68 Loss: 0.03047535776437527\n",
            "Epoch 69 Loss: 0.016359727572443184\n",
            "Epoch 70 Loss: 0.04166612581150535\n",
            "Epoch 71 Loss: 0.027736683428172756\n",
            "Epoch 72 Loss: 0.05353811375746555\n",
            "Epoch 73 Loss: 0.1490158884610484\n",
            "Epoch 74 Loss: 0.028048152846790943\n",
            "Epoch 75 Loss: 0.01388696408240106\n",
            "Epoch 76 Loss: 0.023465296215986923\n",
            "Epoch 77 Loss: 0.035167973070193245\n",
            "Epoch 78 Loss: 0.02516744402126767\n",
            "Epoch 79 Loss: 0.08770170624621997\n",
            "Epoch 80 Loss: 0.08681477379695078\n",
            "Epoch 81 Loss: 0.03583431920915529\n",
            "Epoch 82 Loss: 0.024766093120840334\n",
            "Epoch 83 Loss: 0.035910628893034154\n",
            "Epoch 84 Loss: 0.013549623572227519\n",
            "Epoch 85 Loss: 0.07385074427428012\n",
            "Epoch 86 Loss: 0.060811430337511865\n",
            "Epoch 87 Loss: 0.014939773689606726\n",
            "Epoch 88 Loss: 0.017449109422267538\n",
            "Epoch 89 Loss: 0.018527006296270063\n",
            "Epoch 90 Loss: 0.11193818637226692\n",
            "Epoch 91 Loss: 0.05752964118483465\n",
            "Epoch 92 Loss: 0.033576080699415804\n",
            "Epoch 93 Loss: 0.06423349673185762\n",
            "Epoch 94 Loss: 0.046259957637006625\n",
            "Epoch 95 Loss: 0.015979854172593257\n",
            "Epoch 96 Loss: 0.14507617862521394\n",
            "Epoch 97 Loss: 0.13630424716559486\n",
            "Epoch 98 Loss: 0.03185857222380291\n",
            "Epoch 99 Loss: 0.009676057907046117\n",
            "Epoch 100 Loss: 0.004962526449840282\n",
            "Epoch 101 Loss: 0.004740742423878934\n",
            "Epoch 102 Loss: 0.012948542333179823\n",
            "Epoch 103 Loss: 0.012660585219864691\n",
            "Epoch 104 Loss: 0.07032263592248345\n",
            "Epoch 105 Loss: 0.08172283124375941\n",
            "Epoch 106 Loss: 0.18405329740738205\n",
            "Epoch 107 Loss: 0.019317634576357358\n",
            "Epoch 108 Loss: 0.007844378296199975\n",
            "Epoch 109 Loss: 0.004085408653471691\n",
            "Epoch 110 Loss: 0.0037410871191714675\n",
            "Epoch 111 Loss: 0.006895675690349839\n",
            "Epoch 112 Loss: 0.3223682946041264\n",
            "Epoch 113 Loss: 0.20125452613046868\n",
            "Epoch 114 Loss: 0.010355181313673455\n",
            "Epoch 115 Loss: 0.009167144713629963\n",
            "Epoch 116 Loss: 0.006094076869917349\n",
            "Epoch 117 Loss: 0.004315481470046902\n",
            "Epoch 118 Loss: 0.00436114972580029\n",
            "Epoch 119 Loss: 0.0036162565489791243\n",
            "Epoch 120 Loss: 0.006833796268642723\n",
            "Epoch 121 Loss: 0.038587656015344876\n",
            "Epoch 122 Loss: 0.06357581951144099\n",
            "Epoch 123 Loss: 0.004807713467535221\n",
            "Epoch 124 Loss: 0.005001076408652365\n",
            "Epoch 125 Loss: 0.04839699663321977\n",
            "Epoch 126 Loss: 0.0394587736958853\n",
            "Epoch 127 Loss: 0.004906444040971141\n",
            "Epoch 128 Loss: 0.015645898796144333\n",
            "Epoch 129 Loss: 0.06920673704740006\n",
            "Epoch 130 Loss: 0.038368122102344894\n",
            "Epoch 131 Loss: 0.006431841031527721\n",
            "Epoch 132 Loss: 0.019093839082234894\n",
            "Epoch 133 Loss: 0.03551316826781442\n",
            "Epoch 134 Loss: 0.012539076077448278\n",
            "Epoch 135 Loss: 0.014832492779581244\n",
            "Epoch 136 Loss: 0.03300608726118958\n",
            "Epoch 137 Loss: 0.024589597427110425\n",
            "Epoch 138 Loss: 0.02948466644909501\n",
            "Epoch 139 Loss: 0.029505391228671293\n",
            "Epoch 140 Loss: 0.0030520801220459233\n",
            "Epoch 141 Loss: 0.014010658330661563\n",
            "Epoch 142 Loss: 0.047927959108523516\n",
            "Epoch 143 Loss: 0.08192353476144656\n",
            "Epoch 144 Loss: 0.003999154964895887\n",
            "Epoch 145 Loss: 0.00424543170475748\n",
            "Epoch 146 Loss: 0.017799808379764793\n",
            "Epoch 147 Loss: 0.029989996607517864\n",
            "Epoch 148 Loss: 0.06743034800898798\n",
            "Epoch 149 Loss: 0.03151052269069939\n",
            "Epoch 150 Loss: 0.021152024996657196\n",
            "Epoch 151 Loss: 0.016117056760723655\n",
            "Epoch 152 Loss: 0.020874507321484916\n",
            "Epoch 153 Loss: 0.023988544657457186\n",
            "Epoch 154 Loss: 0.03259030972890669\n",
            "Epoch 155 Loss: 0.025984929869970762\n",
            "Epoch 156 Loss: 0.0020117734017509282\n",
            "Epoch 157 Loss: 0.005947145106965664\n",
            "Epoch 158 Loss: 0.017461071505430102\n",
            "Epoch 159 Loss: 0.08312268581861387\n",
            "Epoch 160 Loss: 0.007512449279985862\n",
            "Epoch 161 Loss: 0.01025182601514202\n",
            "Epoch 162 Loss: 0.003873928442604626\n",
            "Epoch 163 Loss: 0.004980004966783172\n",
            "Epoch 164 Loss: 0.06519555755135395\n",
            "Epoch 165 Loss: 0.009080323549397428\n",
            "Epoch 166 Loss: 0.014679442448191504\n",
            "Epoch 167 Loss: 0.014218226408366886\n",
            "Epoch 168 Loss: 0.019674616049661753\n",
            "Epoch 169 Loss: 0.00652453814843258\n",
            "Epoch 170 Loss: 0.21425223292291043\n",
            "Epoch 171 Loss: 0.0802559469452418\n",
            "Epoch 172 Loss: 0.0032290438975875408\n",
            "Epoch 173 Loss: 0.001500018191088507\n",
            "Epoch 174 Loss: 0.0019318473014684856\n",
            "Epoch 175 Loss: 0.0031607994405728392\n",
            "Epoch 176 Loss: 0.0022439135719058236\n",
            "Epoch 177 Loss: 0.002868154113224936\n",
            "Epoch 178 Loss: 0.03255574507782523\n",
            "Epoch 179 Loss: 0.019760306317885137\n",
            "Epoch 180 Loss: 0.005093538062042442\n",
            "Epoch 181 Loss: 0.024434479539365485\n",
            "Epoch 182 Loss: 0.1184912434254355\n",
            "Epoch 183 Loss: 0.016164815071005863\n",
            "Epoch 184 Loss: 0.001975014278204257\n",
            "Epoch 185 Loss: 0.002435364141729198\n",
            "Epoch 186 Loss: 0.0016982742181687732\n",
            "Epoch 187 Loss: 0.0022943167822586786\n",
            "Epoch 188 Loss: 0.04300854082871921\n",
            "Epoch 189 Loss: 0.028634761004507386\n",
            "Epoch 190 Loss: 0.023890991222287182\n",
            "Epoch 191 Loss: 0.03042723195246808\n",
            "Epoch 192 Loss: 0.005397023502724088\n",
            "Epoch 193 Loss: 0.01486646828473442\n",
            "Epoch 194 Loss: 0.032904103969756\n",
            "Epoch 195 Loss: 0.012964923496281746\n",
            "Epoch 196 Loss: 0.018209019603348666\n",
            "Epoch 197 Loss: 0.0925349014210421\n",
            "Epoch 198 Loss: 0.026319365774123363\n",
            "Epoch 199 Loss: 0.0029708140033080283\n"
          ]
        }
      ]
    },
    {
      "cell_type": "code",
      "source": [
        "disp_test = outputs_test.to_numpy()[:,0]\n",
        "kappa_test = outputs_test.to_numpy()[:,1]"
      ],
      "metadata": {
        "id": "-ZX2ruFot3TH"
      },
      "execution_count": 10,
      "outputs": []
    },
    {
      "cell_type": "code",
      "source": [
        "outputs_pred = model.predict(inputs_test)\n",
        "outputs_pred_df = pd.DataFrame(outputs_pred, columns = ['Displacement u [m]','Curvature kappa [m-1]'])\n",
        "print(outputs_pred_df)\n",
        "disp_pred = outputs_pred_df.to_numpy()[:,0]\n",
        "kappa_pred = outputs_pred_df.to_numpy()[:,1]"
      ],
      "metadata": {
        "colab": {
          "base_uri": "https://localhost:8080/"
        },
        "id": "6YVmi37VuKsr",
        "outputId": "825e8a30-c9d4-4026-958f-35b251c2f306"
      },
      "execution_count": 11,
      "outputs": [
        {
          "output_type": "stream",
          "name": "stdout",
          "text": [
            "94/94 [==============================] - 0s 1ms/step\n",
            "      Displacement u [m]  Curvature kappa [m-1]\n",
            "0               2.383660               9.332182\n",
            "1               2.219666               9.729347\n",
            "2               2.849844              11.651175\n",
            "3              13.008905              20.430679\n",
            "4               6.445101              14.559344\n",
            "...                  ...                    ...\n",
            "2995           11.016376              19.466827\n",
            "2996            3.909731               9.740879\n",
            "2997           13.553029              20.606590\n",
            "2998           12.140396              18.524708\n",
            "2999            4.632543              13.576095\n",
            "\n",
            "[3000 rows x 2 columns]\n"
          ]
        }
      ]
    },
    {
      "cell_type": "code",
      "source": [
        "import matplotlib.pyplot as plt\n",
        "plt.plot(disp_test, disp_pred, 'o')\n",
        "plt.show()\n",
        "plt.plot(kappa_test, kappa_pred, 'o')\n",
        "plt.show()"
      ],
      "metadata": {
        "colab": {
          "base_uri": "https://localhost:8080/",
          "height": 513
        },
        "id": "iSVtorShwbKt",
        "outputId": "80e357c8-2cfb-4b46-dc06-e71a3e621ba2"
      },
      "execution_count": 12,
      "outputs": [
        {
          "output_type": "display_data",
          "data": {
            "text/plain": [
              "<Figure size 432x288 with 1 Axes>"
            ],
            "image/png": "[encoded data removed]"
          },
          "metadata": {
            "needs_background": "light"
          }
        },
        {
          "output_type": "display_data",
          "data": {
            "text/plain": [
              "<Figure size 432x288 with 1 Axes>"
            ],
            "image/png": "[encoded data removed]"
          },
          "metadata": {
            "needs_background": "light"
          }
        }
      ]
    },
    {
      "cell_type": "code",
      "source": [
        "import tensorflow as tf\n",
        "def F_model(model,x,q):\n",
        "    x = tf.Variable(x)\n",
        "    q = tf.Variable(q)\n",
        "    with tf.GradientTape() as g:\n",
        "      g.watch(x)\n",
        "      with tf.GradientTape() as gg:\n",
        "        gg.watch(x)\n",
        "        u = model(tf.stack([x,q], axis=1))[:,0]\n",
        "      du_dx = gg.gradient(u, x)  \n",
        "    d2u_dx2 = g.gradient(du_dx, x)  \n",
        "    return u, d2u_dx2"
      ],
      "metadata": {
        "id": "dtEVwVXl_S1l"
      },
      "execution_count": 13,
      "outputs": []
    },
    {
      "cell_type": "code",
      "source": [
        "x = inputs_test.to_numpy()[:,0]\n",
        "q = inputs_test.to_numpy()[:,1]\n",
        "[u, d2u_dx2] = F_model(model, x,q)\n",
        "print(d2u_dx2)\n",
        "plt.plot(d2u_dx2, kappa_test, '*')\n",
        "plt.show()"
      ],
      "metadata": {
        "colab": {
          "base_uri": "https://localhost:8080/",
          "height": 317
        },
        "id": "jmC0RC39OI3u",
        "outputId": "cc6abebf-fb33-43db-9d8e-a9ff636add8a"
      },
      "execution_count": 14,
      "outputs": [
        {
          "output_type": "stream",
          "name": "stdout",
          "text": [
            "tf.Tensor(\n",
            "[ 9.30543518  9.70587921 11.63918495 ... 20.46994781 18.41417313\n",
            " 13.53708649], shape=(3000,), dtype=float64)\n"
          ]
        },
        {
          "output_type": "display_data",
          "data": {
            "text/plain": [
              "<Figure size 432x288 with 1 Axes>"
            ],
            "image/png": "[encoded data removed]"
          },
          "metadata": {
            "needs_background": "light"
          }
        }
      ]
    }
  ]
}