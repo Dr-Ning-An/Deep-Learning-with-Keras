{
  "nbformat": 4,
  "nbformat_minor": 0,
  "metadata": {
    "colab": {
      "provenance": []
    },
    "kernelspec": {
      "name": "python3",
      "display_name": "Python 3"
    },
    "language_info": {
      "name": "python"
    }
  },
  "cells": [
    {
      "cell_type": "markdown",
      "source": [
        "### Download Data"
      ],
      "metadata": {
        "id": "lh48dYvw6JKA"
      }
    },
    {
      "cell_type": "code",
      "source": [
        "import pandas as pd\n",
        "import numpy as np\n",
        "# read data to pandas frame\n",
        "url = 'https://raw.githubusercontent.com/Dr-Ning-An/Deep-Learning-with-Keras/main/NonlinearRegression/Data.csv'\n",
        "data = pd.read_csv(url)\n",
        "data.shape\n",
        "# print(data.head(5))"
      ],
      "metadata": {
        "colab": {
          "base_uri": "https://localhost:8080/"
        },
        "id": "dEpOdeYy6PVu",
        "outputId": "54b38b0d-6247-4bb6-d320-bf0ee636a000"
      },
      "execution_count": 1,
      "outputs": [
        {
          "output_type": "execute_result",
          "data": {
            "text/plain": [
              "(10000, 4)"
            ]
          },
          "metadata": {},
          "execution_count": 1
        }
      ]
    },
    {
      "cell_type": "code",
      "source": [
        "inputs = data.iloc[:, 0:2]\n",
        "inputs_norm = (inputs - inputs.mean()) / inputs.std()\n",
        "n_inputs_norm = inputs_norm.shape[1]\n",
        "print(inputs_norm.head(5))\n",
        "outputs = data.iloc[:, 2:4]\n",
        "outputs_norm = (outputs - outputs.mean()) / outputs.std()\n",
        "n_outputs_norm = outputs_norm.shape[1]\n",
        "print(outputs_norm.head(5))"
      ],
      "metadata": {
        "colab": {
          "base_uri": "https://localhost:8080/"
        },
        "id": "ZE4cto1e6Ymz",
        "outputId": "861c472c-d435-42ea-f1db-8061e7d9ff4c"
      },
      "execution_count": 2,
      "outputs": [
        {
          "output_type": "stream",
          "name": "stdout",
          "text": [
            "   Coordinate x [m]  Distributed load q [kN/m]\n",
            "0          1.522223                  -1.407221\n",
            "1         -1.420730                   1.508714\n",
            "2         -0.901141                  -0.937512\n",
            "3          0.314005                  -1.665284\n",
            "4         -0.920193                   1.273167\n",
            "   Displacement u [m]  Curvature kappa [m-1]\n",
            "0            0.722879              -0.207977\n",
            "1           -0.955251              -0.227143\n",
            "2           -1.005059              -1.176568\n",
            "3           -0.465783              -1.019123\n",
            "4           -0.646611               0.090442\n"
          ]
        }
      ]
    },
    {
      "cell_type": "code",
      "source": [
        "from sklearn.model_selection import train_test_split\n",
        "# Randomly split the data into a training and test sets by holding 30% of the data for testing.\n",
        "inputs_norm_train, inputs_norm_test, outputs_norm_train, outputs_norm_test = \\\n",
        "    train_test_split(inputs_norm, outputs_norm, test_size = 0.3, random_state=0)"
      ],
      "metadata": {
        "id": "2nJnITe-631U"
      },
      "execution_count": 3,
      "outputs": []
    },
    {
      "cell_type": "code",
      "source": [
        "import keras\n",
        "from keras.models import Sequential\n",
        "from keras.layers import Dense\n",
        "import tensorflow as tf\n",
        "# define regression model\n",
        "def ANN_model():\n",
        "    # create model\n",
        "    model = Sequential()\n",
        "    model.add(Dense(128, activation='tanh', input_shape=(n_inputs_norm,)))\n",
        "    model.add(Dense(64, activation='tanh'))\n",
        "    model.add(Dense(32, activation='tanh'))\n",
        "    model.add(Dense(16, activation='tanh'))\n",
        "    model.add(Dense(n_outputs_norm))\n",
        "    \n",
        "    # compile model\n",
        "    model.compile(optimizer='adam', loss='mean_squared_error')\n",
        "    return model"
      ],
      "metadata": {
        "id": "gbxwPLrI7Xic"
      },
      "execution_count": 4,
      "outputs": []
    },
    {
      "cell_type": "code",
      "source": [
        "# build the model\n",
        "model = ANN_model()"
      ],
      "metadata": {
        "id": "VSw_xD207hgp"
      },
      "execution_count": 5,
      "outputs": []
    },
    {
      "cell_type": "code",
      "source": [
        "# fit the model\n",
        "model.fit(inputs_norm_train, outputs_norm_train, epochs=200, batch_size=60)"
      ],
      "metadata": {
        "colab": {
          "base_uri": "https://localhost:8080/"
        },
        "id": "aKOZUm8I7keR",
        "outputId": "825ecec5-8172-41d3-b13f-f6805f05cce9"
      },
      "execution_count": 6,
      "outputs": [
        {
          "output_type": "stream",
          "name": "stdout",
          "text": [
            "Epoch 1/200\n",
            "117/117 [==============================] - 2s 6ms/step - loss: 0.0718\n",
            "Epoch 2/200\n",
            "117/117 [==============================] - 1s 5ms/step - loss: 0.0060\n",
            "Epoch 3/200\n",
            "117/117 [==============================] - 1s 5ms/step - loss: 0.0019\n",
            "Epoch 4/200\n",
            "117/117 [==============================] - 1s 5ms/step - loss: 8.7716e-04\n",
            "Epoch 5/200\n",
            "117/117 [==============================] - 1s 5ms/step - loss: 5.1661e-04\n",
            "Epoch 6/200\n",
            "117/117 [==============================] - 1s 5ms/step - loss: 3.0595e-04\n",
            "Epoch 7/200\n",
            "117/117 [==============================] - 0s 4ms/step - loss: 2.1438e-04\n",
            "Epoch 8/200\n",
            "117/117 [==============================] - 1s 5ms/step - loss: 1.9739e-04\n",
            "Epoch 9/200\n",
            "117/117 [==============================] - 1s 6ms/step - loss: 1.4084e-04\n",
            "Epoch 10/200\n",
            "117/117 [==============================] - 1s 5ms/step - loss: 1.1521e-04\n",
            "Epoch 11/200\n",
            "117/117 [==============================] - 1s 4ms/step - loss: 1.0690e-04\n",
            "Epoch 12/200\n",
            "117/117 [==============================] - 1s 5ms/step - loss: 8.7022e-05\n",
            "Epoch 13/200\n",
            "117/117 [==============================] - 1s 6ms/step - loss: 8.6371e-05\n",
            "Epoch 14/200\n",
            "117/117 [==============================] - 0s 4ms/step - loss: 6.5234e-05\n",
            "Epoch 15/200\n",
            "117/117 [==============================] - 0s 4ms/step - loss: 6.7774e-05\n",
            "Epoch 16/200\n",
            "117/117 [==============================] - 1s 5ms/step - loss: 5.7185e-05\n",
            "Epoch 17/200\n",
            "117/117 [==============================] - 1s 4ms/step - loss: 6.2173e-05\n",
            "Epoch 18/200\n",
            "117/117 [==============================] - 0s 4ms/step - loss: 5.0123e-05\n",
            "Epoch 19/200\n",
            "117/117 [==============================] - 1s 6ms/step - loss: 5.5373e-05\n",
            "Epoch 20/200\n",
            "117/117 [==============================] - 1s 5ms/step - loss: 6.0658e-05\n",
            "Epoch 21/200\n",
            "117/117 [==============================] - 1s 5ms/step - loss: 5.4075e-05\n",
            "Epoch 22/200\n",
            "117/117 [==============================] - 1s 4ms/step - loss: 5.4341e-05\n",
            "Epoch 23/200\n",
            "117/117 [==============================] - 1s 7ms/step - loss: 5.2061e-05\n",
            "Epoch 24/200\n",
            "117/117 [==============================] - 1s 6ms/step - loss: 6.1856e-05\n",
            "Epoch 25/200\n",
            "117/117 [==============================] - 1s 5ms/step - loss: 4.8038e-05\n",
            "Epoch 26/200\n",
            "117/117 [==============================] - 1s 7ms/step - loss: 4.6092e-05\n",
            "Epoch 27/200\n",
            "117/117 [==============================] - 1s 8ms/step - loss: 7.3071e-05\n",
            "Epoch 28/200\n",
            "117/117 [==============================] - 1s 8ms/step - loss: 7.0529e-05\n",
            "Epoch 29/200\n",
            "117/117 [==============================] - 1s 6ms/step - loss: 5.2663e-05\n",
            "Epoch 30/200\n",
            "117/117 [==============================] - 1s 11ms/step - loss: 6.0277e-05\n",
            "Epoch 31/200\n",
            "117/117 [==============================] - 2s 13ms/step - loss: 7.2547e-05\n",
            "Epoch 32/200\n",
            "117/117 [==============================] - 2s 15ms/step - loss: 5.9300e-05\n",
            "Epoch 33/200\n",
            "117/117 [==============================] - 1s 10ms/step - loss: 5.7792e-05\n",
            "Epoch 34/200\n",
            "117/117 [==============================] - 1s 7ms/step - loss: 5.1702e-05\n",
            "Epoch 35/200\n",
            "117/117 [==============================] - 1s 6ms/step - loss: 5.8430e-05\n",
            "Epoch 36/200\n",
            "117/117 [==============================] - 1s 6ms/step - loss: 4.6254e-05\n",
            "Epoch 37/200\n",
            "117/117 [==============================] - 0s 4ms/step - loss: 4.3624e-05\n",
            "Epoch 38/200\n",
            "117/117 [==============================] - 0s 4ms/step - loss: 4.4089e-05\n",
            "Epoch 39/200\n",
            "117/117 [==============================] - 1s 4ms/step - loss: 8.9640e-05\n",
            "Epoch 40/200\n",
            "117/117 [==============================] - 1s 4ms/step - loss: 5.8532e-05\n",
            "Epoch 41/200\n",
            "117/117 [==============================] - 1s 9ms/step - loss: 2.6800e-05\n",
            "Epoch 42/200\n",
            "117/117 [==============================] - 1s 6ms/step - loss: 1.7033e-04\n",
            "Epoch 43/200\n",
            "117/117 [==============================] - 1s 5ms/step - loss: 3.3776e-05\n",
            "Epoch 44/200\n",
            "117/117 [==============================] - 1s 6ms/step - loss: 3.7091e-05\n",
            "Epoch 45/200\n",
            "117/117 [==============================] - 0s 4ms/step - loss: 2.8122e-05\n",
            "Epoch 46/200\n",
            "117/117 [==============================] - 1s 4ms/step - loss: 9.6364e-05\n",
            "Epoch 47/200\n",
            "117/117 [==============================] - 1s 4ms/step - loss: 9.5422e-05\n",
            "Epoch 48/200\n",
            "117/117 [==============================] - 1s 6ms/step - loss: 8.2628e-05\n",
            "Epoch 49/200\n",
            "117/117 [==============================] - 1s 5ms/step - loss: 2.4738e-05\n",
            "Epoch 50/200\n",
            "117/117 [==============================] - 1s 5ms/step - loss: 5.6786e-05\n",
            "Epoch 51/200\n",
            "117/117 [==============================] - 1s 5ms/step - loss: 2.9673e-05\n",
            "Epoch 52/200\n",
            "117/117 [==============================] - 0s 2ms/step - loss: 4.0566e-05\n",
            "Epoch 53/200\n",
            "117/117 [==============================] - 0s 2ms/step - loss: 1.4978e-04\n",
            "Epoch 54/200\n",
            "117/117 [==============================] - 0s 2ms/step - loss: 1.5244e-04\n",
            "Epoch 55/200\n",
            "117/117 [==============================] - 0s 2ms/step - loss: 3.0319e-05\n",
            "Epoch 56/200\n",
            "117/117 [==============================] - 0s 3ms/step - loss: 3.1127e-05\n",
            "Epoch 57/200\n",
            "117/117 [==============================] - 0s 3ms/step - loss: 9.3623e-05\n",
            "Epoch 58/200\n",
            "117/117 [==============================] - 0s 2ms/step - loss: 5.7295e-05\n",
            "Epoch 59/200\n",
            "117/117 [==============================] - 0s 2ms/step - loss: 1.8779e-04\n",
            "Epoch 60/200\n",
            "117/117 [==============================] - 0s 2ms/step - loss: 2.1900e-05\n",
            "Epoch 61/200\n",
            "117/117 [==============================] - 0s 2ms/step - loss: 2.4329e-05\n",
            "Epoch 62/200\n",
            "117/117 [==============================] - 0s 2ms/step - loss: 2.9155e-05\n",
            "Epoch 63/200\n",
            "117/117 [==============================] - 0s 2ms/step - loss: 2.5612e-05\n",
            "Epoch 64/200\n",
            "117/117 [==============================] - 0s 2ms/step - loss: 7.7105e-05\n",
            "Epoch 65/200\n",
            "117/117 [==============================] - 0s 2ms/step - loss: 3.7692e-05\n",
            "Epoch 66/200\n",
            "117/117 [==============================] - 0s 3ms/step - loss: 2.8185e-04\n",
            "Epoch 67/200\n",
            "117/117 [==============================] - 0s 2ms/step - loss: 1.6842e-05\n",
            "Epoch 68/200\n",
            "117/117 [==============================] - 0s 2ms/step - loss: 6.4477e-05\n",
            "Epoch 69/200\n",
            "117/117 [==============================] - 0s 2ms/step - loss: 8.6815e-05\n",
            "Epoch 70/200\n",
            "117/117 [==============================] - 0s 3ms/step - loss: 2.0063e-05\n",
            "Epoch 71/200\n",
            "117/117 [==============================] - 0s 2ms/step - loss: 3.0739e-05\n",
            "Epoch 72/200\n",
            "117/117 [==============================] - 0s 2ms/step - loss: 5.1034e-05\n",
            "Epoch 73/200\n",
            "117/117 [==============================] - 0s 2ms/step - loss: 6.9509e-05\n",
            "Epoch 74/200\n",
            "117/117 [==============================] - 0s 2ms/step - loss: 2.0047e-05\n",
            "Epoch 75/200\n",
            "117/117 [==============================] - 0s 3ms/step - loss: 3.1550e-05\n",
            "Epoch 76/200\n",
            "117/117 [==============================] - 0s 2ms/step - loss: 2.6362e-04\n",
            "Epoch 77/200\n",
            "117/117 [==============================] - 0s 2ms/step - loss: 1.2268e-04\n",
            "Epoch 78/200\n",
            "117/117 [==============================] - 0s 2ms/step - loss: 1.5933e-05\n",
            "Epoch 79/200\n",
            "117/117 [==============================] - 0s 2ms/step - loss: 1.2218e-05\n",
            "Epoch 80/200\n",
            "117/117 [==============================] - 0s 2ms/step - loss: 2.4981e-05\n",
            "Epoch 81/200\n",
            "117/117 [==============================] - 0s 2ms/step - loss: 2.1671e-05\n",
            "Epoch 82/200\n",
            "117/117 [==============================] - 0s 2ms/step - loss: 3.3795e-05\n",
            "Epoch 83/200\n",
            "117/117 [==============================] - 0s 2ms/step - loss: 1.7749e-05\n",
            "Epoch 84/200\n",
            "117/117 [==============================] - 0s 2ms/step - loss: 7.3253e-05\n",
            "Epoch 85/200\n",
            "117/117 [==============================] - 0s 2ms/step - loss: 4.1411e-05\n",
            "Epoch 86/200\n",
            "117/117 [==============================] - 0s 3ms/step - loss: 2.1547e-04\n",
            "Epoch 87/200\n",
            "117/117 [==============================] - 0s 3ms/step - loss: 1.0061e-04\n",
            "Epoch 88/200\n",
            "117/117 [==============================] - 0s 2ms/step - loss: 2.8087e-05\n",
            "Epoch 89/200\n",
            "117/117 [==============================] - 0s 3ms/step - loss: 2.3932e-05\n",
            "Epoch 90/200\n",
            "117/117 [==============================] - 0s 2ms/step - loss: 2.2431e-05\n",
            "Epoch 91/200\n",
            "117/117 [==============================] - 0s 2ms/step - loss: 2.2042e-05\n",
            "Epoch 92/200\n",
            "117/117 [==============================] - 0s 2ms/step - loss: 7.0881e-05\n",
            "Epoch 93/200\n",
            "117/117 [==============================] - 0s 2ms/step - loss: 1.2357e-04\n",
            "Epoch 94/200\n",
            "117/117 [==============================] - 0s 2ms/step - loss: 3.6389e-05\n",
            "Epoch 95/200\n",
            "117/117 [==============================] - 0s 2ms/step - loss: 1.6874e-05\n",
            "Epoch 96/200\n",
            "117/117 [==============================] - 0s 2ms/step - loss: 2.5579e-05\n",
            "Epoch 97/200\n",
            "117/117 [==============================] - 0s 2ms/step - loss: 5.6041e-05\n",
            "Epoch 98/200\n",
            "117/117 [==============================] - 0s 2ms/step - loss: 4.9013e-05\n",
            "Epoch 99/200\n",
            "117/117 [==============================] - 0s 2ms/step - loss: 2.0687e-05\n",
            "Epoch 100/200\n",
            "117/117 [==============================] - 0s 2ms/step - loss: 2.3438e-04\n",
            "Epoch 101/200\n",
            "117/117 [==============================] - 0s 2ms/step - loss: 6.2078e-05\n",
            "Epoch 102/200\n",
            "117/117 [==============================] - 0s 2ms/step - loss: 8.4460e-06\n",
            "Epoch 103/200\n",
            "117/117 [==============================] - 0s 2ms/step - loss: 7.2813e-05\n",
            "Epoch 104/200\n",
            "117/117 [==============================] - 0s 2ms/step - loss: 6.4640e-05\n",
            "Epoch 105/200\n",
            "117/117 [==============================] - 0s 3ms/step - loss: 2.9410e-05\n",
            "Epoch 106/200\n",
            "117/117 [==============================] - 0s 3ms/step - loss: 9.3115e-06\n",
            "Epoch 107/200\n",
            "117/117 [==============================] - 0s 3ms/step - loss: 1.0233e-05\n",
            "Epoch 108/200\n",
            "117/117 [==============================] - 0s 3ms/step - loss: 7.6376e-06\n",
            "Epoch 109/200\n",
            "117/117 [==============================] - 0s 3ms/step - loss: 2.8584e-05\n",
            "Epoch 110/200\n",
            "117/117 [==============================] - 0s 2ms/step - loss: 2.7869e-04\n",
            "Epoch 111/200\n",
            "117/117 [==============================] - 0s 2ms/step - loss: 9.3810e-06\n",
            "Epoch 112/200\n",
            "117/117 [==============================] - 0s 2ms/step - loss: 2.8339e-05\n",
            "Epoch 113/200\n",
            "117/117 [==============================] - 0s 3ms/step - loss: 1.6016e-05\n",
            "Epoch 114/200\n",
            "117/117 [==============================] - 0s 2ms/step - loss: 7.2897e-05\n",
            "Epoch 115/200\n",
            "117/117 [==============================] - 0s 2ms/step - loss: 1.4906e-05\n",
            "Epoch 116/200\n",
            "117/117 [==============================] - 0s 3ms/step - loss: 1.2633e-05\n",
            "Epoch 117/200\n",
            "117/117 [==============================] - 0s 2ms/step - loss: 4.2044e-05\n",
            "Epoch 118/200\n",
            "117/117 [==============================] - 0s 2ms/step - loss: 7.1797e-05\n",
            "Epoch 119/200\n",
            "117/117 [==============================] - 0s 2ms/step - loss: 5.4444e-05\n",
            "Epoch 120/200\n",
            "117/117 [==============================] - 0s 2ms/step - loss: 2.8324e-05\n",
            "Epoch 121/200\n",
            "117/117 [==============================] - 0s 2ms/step - loss: 1.9330e-05\n",
            "Epoch 122/200\n",
            "117/117 [==============================] - 0s 3ms/step - loss: 3.4412e-05\n",
            "Epoch 123/200\n",
            "117/117 [==============================] - 0s 2ms/step - loss: 9.2442e-05\n",
            "Epoch 124/200\n",
            "117/117 [==============================] - 0s 3ms/step - loss: 2.2052e-05\n",
            "Epoch 125/200\n",
            "117/117 [==============================] - 0s 2ms/step - loss: 1.3733e-05\n",
            "Epoch 126/200\n",
            "117/117 [==============================] - 0s 2ms/step - loss: 1.0128e-04\n",
            "Epoch 127/200\n",
            "117/117 [==============================] - 0s 2ms/step - loss: 3.9157e-05\n",
            "Epoch 128/200\n",
            "117/117 [==============================] - 0s 2ms/step - loss: 1.5244e-05\n",
            "Epoch 129/200\n",
            "117/117 [==============================] - 0s 2ms/step - loss: 2.4470e-05\n",
            "Epoch 130/200\n",
            "117/117 [==============================] - 0s 2ms/step - loss: 1.7051e-05\n",
            "Epoch 131/200\n",
            "117/117 [==============================] - 0s 2ms/step - loss: 2.6648e-05\n",
            "Epoch 132/200\n",
            "117/117 [==============================] - 0s 2ms/step - loss: 6.0408e-05\n",
            "Epoch 133/200\n",
            "117/117 [==============================] - 0s 2ms/step - loss: 1.0764e-05\n",
            "Epoch 134/200\n",
            "117/117 [==============================] - 0s 3ms/step - loss: 6.6109e-05\n",
            "Epoch 135/200\n",
            "117/117 [==============================] - 0s 2ms/step - loss: 1.0342e-04\n",
            "Epoch 136/200\n",
            "117/117 [==============================] - 0s 2ms/step - loss: 1.0336e-05\n",
            "Epoch 137/200\n",
            "117/117 [==============================] - 0s 2ms/step - loss: 8.3754e-06\n",
            "Epoch 138/200\n",
            "117/117 [==============================] - 0s 2ms/step - loss: 1.4281e-05\n",
            "Epoch 139/200\n",
            "117/117 [==============================] - 0s 2ms/step - loss: 3.5549e-05\n",
            "Epoch 140/200\n",
            "117/117 [==============================] - 0s 2ms/step - loss: 2.2917e-05\n",
            "Epoch 141/200\n",
            "117/117 [==============================] - 0s 2ms/step - loss: 2.9273e-04\n",
            "Epoch 142/200\n",
            "117/117 [==============================] - 0s 2ms/step - loss: 4.6085e-05\n",
            "Epoch 143/200\n",
            "117/117 [==============================] - 0s 2ms/step - loss: 1.1558e-05\n",
            "Epoch 144/200\n",
            "117/117 [==============================] - 0s 2ms/step - loss: 2.0258e-05\n",
            "Epoch 145/200\n",
            "117/117 [==============================] - 0s 2ms/step - loss: 8.5177e-06\n",
            "Epoch 146/200\n",
            "117/117 [==============================] - 0s 2ms/step - loss: 9.0299e-05\n",
            "Epoch 147/200\n",
            "117/117 [==============================] - 0s 2ms/step - loss: 1.9728e-05\n",
            "Epoch 148/200\n",
            "117/117 [==============================] - 0s 2ms/step - loss: 3.7761e-05\n",
            "Epoch 149/200\n",
            "117/117 [==============================] - 0s 2ms/step - loss: 3.9413e-05\n",
            "Epoch 150/200\n",
            "117/117 [==============================] - 0s 2ms/step - loss: 2.9453e-05\n",
            "Epoch 151/200\n",
            "117/117 [==============================] - 0s 2ms/step - loss: 2.3654e-05\n",
            "Epoch 152/200\n",
            "117/117 [==============================] - 0s 3ms/step - loss: 1.3635e-05\n",
            "Epoch 153/200\n",
            "117/117 [==============================] - 0s 2ms/step - loss: 1.2339e-05\n",
            "Epoch 154/200\n",
            "117/117 [==============================] - 0s 2ms/step - loss: 6.0168e-05\n",
            "Epoch 155/200\n",
            "117/117 [==============================] - 0s 2ms/step - loss: 7.0374e-05\n",
            "Epoch 156/200\n",
            "117/117 [==============================] - 0s 2ms/step - loss: 6.7445e-06\n",
            "Epoch 157/200\n",
            "117/117 [==============================] - 0s 2ms/step - loss: 5.1153e-05\n",
            "Epoch 158/200\n",
            "117/117 [==============================] - 0s 3ms/step - loss: 9.7759e-05\n",
            "Epoch 159/200\n",
            "117/117 [==============================] - 0s 2ms/step - loss: 4.8685e-05\n",
            "Epoch 160/200\n",
            "117/117 [==============================] - 0s 2ms/step - loss: 6.9220e-06\n",
            "Epoch 161/200\n",
            "117/117 [==============================] - 0s 2ms/step - loss: 1.7163e-05\n",
            "Epoch 162/200\n",
            "117/117 [==============================] - 0s 3ms/step - loss: 3.1603e-04\n",
            "Epoch 163/200\n",
            "117/117 [==============================] - 0s 2ms/step - loss: 9.6769e-06\n",
            "Epoch 164/200\n",
            "117/117 [==============================] - 0s 2ms/step - loss: 6.1449e-06\n",
            "Epoch 165/200\n",
            "117/117 [==============================] - 0s 2ms/step - loss: 8.5685e-06\n",
            "Epoch 166/200\n",
            "117/117 [==============================] - 0s 2ms/step - loss: 8.9956e-06\n",
            "Epoch 167/200\n",
            "117/117 [==============================] - 0s 2ms/step - loss: 1.1600e-05\n",
            "Epoch 168/200\n",
            "117/117 [==============================] - 0s 2ms/step - loss: 1.7489e-05\n",
            "Epoch 169/200\n",
            "117/117 [==============================] - 0s 2ms/step - loss: 8.7705e-06\n",
            "Epoch 170/200\n",
            "117/117 [==============================] - 0s 2ms/step - loss: 5.0023e-05\n",
            "Epoch 171/200\n",
            "117/117 [==============================] - 0s 2ms/step - loss: 1.0167e-04\n",
            "Epoch 172/200\n",
            "117/117 [==============================] - 0s 3ms/step - loss: 4.1141e-05\n",
            "Epoch 173/200\n",
            "117/117 [==============================] - 0s 2ms/step - loss: 7.0398e-06\n",
            "Epoch 174/200\n",
            "117/117 [==============================] - 0s 2ms/step - loss: 7.5980e-06\n",
            "Epoch 175/200\n",
            "117/117 [==============================] - 0s 2ms/step - loss: 3.3332e-05\n",
            "Epoch 176/200\n",
            "117/117 [==============================] - 0s 3ms/step - loss: 3.1053e-05\n",
            "Epoch 177/200\n",
            "117/117 [==============================] - 0s 2ms/step - loss: 1.2073e-04\n",
            "Epoch 178/200\n",
            "117/117 [==============================] - 0s 2ms/step - loss: 3.8615e-05\n",
            "Epoch 179/200\n",
            "117/117 [==============================] - 0s 2ms/step - loss: 2.9911e-05\n",
            "Epoch 180/200\n",
            "117/117 [==============================] - 0s 2ms/step - loss: 9.2412e-06\n",
            "Epoch 181/200\n",
            "117/117 [==============================] - 0s 2ms/step - loss: 1.7804e-05\n",
            "Epoch 182/200\n",
            "117/117 [==============================] - 0s 2ms/step - loss: 1.6098e-05\n",
            "Epoch 183/200\n",
            "117/117 [==============================] - 0s 2ms/step - loss: 6.8176e-05\n",
            "Epoch 184/200\n",
            "117/117 [==============================] - 0s 2ms/step - loss: 3.9091e-05\n",
            "Epoch 185/200\n",
            "117/117 [==============================] - 0s 2ms/step - loss: 5.1402e-05\n",
            "Epoch 186/200\n",
            "117/117 [==============================] - 0s 3ms/step - loss: 1.8581e-05\n",
            "Epoch 187/200\n",
            "117/117 [==============================] - 0s 2ms/step - loss: 4.1208e-05\n",
            "Epoch 188/200\n",
            "117/117 [==============================] - 0s 3ms/step - loss: 1.4396e-05\n",
            "Epoch 189/200\n",
            "117/117 [==============================] - 0s 2ms/step - loss: 1.5018e-05\n",
            "Epoch 190/200\n",
            "117/117 [==============================] - 0s 3ms/step - loss: 2.3368e-05\n",
            "Epoch 191/200\n",
            "117/117 [==============================] - 0s 2ms/step - loss: 2.8915e-05\n",
            "Epoch 192/200\n",
            "117/117 [==============================] - 0s 2ms/step - loss: 3.3726e-05\n",
            "Epoch 193/200\n",
            "117/117 [==============================] - 0s 2ms/step - loss: 5.7086e-05\n",
            "Epoch 194/200\n",
            "117/117 [==============================] - 0s 2ms/step - loss: 4.8979e-05\n",
            "Epoch 195/200\n",
            "117/117 [==============================] - 0s 2ms/step - loss: 1.2181e-05\n",
            "Epoch 196/200\n",
            "117/117 [==============================] - 0s 2ms/step - loss: 3.0556e-05\n",
            "Epoch 197/200\n",
            "117/117 [==============================] - 0s 3ms/step - loss: 2.0047e-04\n",
            "Epoch 198/200\n",
            "117/117 [==============================] - 0s 3ms/step - loss: 1.0353e-04\n",
            "Epoch 199/200\n",
            "117/117 [==============================] - 0s 2ms/step - loss: 1.8221e-05\n",
            "Epoch 200/200\n",
            "117/117 [==============================] - 0s 2ms/step - loss: 6.7996e-06\n"
          ]
        },
        {
          "output_type": "execute_result",
          "data": {
            "text/plain": [
              "<keras.callbacks.History at 0x7f2a64160190>"
            ]
          },
          "metadata": {},
          "execution_count": 6
        }
      ]
    },
    {
      "cell_type": "code",
      "source": [
        "test_data = outputs_norm_test * outputs.std() + outputs.mean()\n",
        "print(test_data)\n",
        "test_data_disp = test_data.to_numpy()[:,0]\n",
        "test_data_kappa = test_data.to_numpy()[:,1]"
      ],
      "metadata": {
        "colab": {
          "base_uri": "https://localhost:8080/"
        },
        "id": "AcgFqu1h8TAP",
        "outputId": "d5f5b682-528b-42cb-a547-be3d8bac7fe9"
      },
      "execution_count": 7,
      "outputs": [
        {
          "output_type": "stream",
          "name": "stdout",
          "text": [
            "      Displacement u [m]  Curvature kappa [m-1]\n",
            "9394            2.374574               9.334805\n",
            "898             2.212246               9.747763\n",
            "2398            2.851196              11.662809\n",
            "5906           13.029009              20.449480\n",
            "2343            6.448158              14.567710\n",
            "...                  ...                    ...\n",
            "4004           11.032060              19.409858\n",
            "7375            3.926963               9.757329\n",
            "9307           13.574592              20.677069\n",
            "8394           12.160769              18.607801\n",
            "5233            4.635886              13.574874\n",
            "\n",
            "[3000 rows x 2 columns]\n"
          ]
        }
      ]
    },
    {
      "cell_type": "code",
      "source": [
        "pred_data_norm = model.predict(inputs_norm_test)\n",
        "pred_data_norm_df = pd.DataFrame(pred_data_norm, columns = ['Displacement u [m]','Curvature kappa [m-1]'])\n",
        "pred_data_df = pred_data_norm_df * outputs.std() + outputs.mean()\n",
        "print(pred_data_df)\n",
        "pred_data_disp = pred_data_df.to_numpy()[:,0]\n",
        "pred_data_kappa = pred_data_df.to_numpy()[:,1]"
      ],
      "metadata": {
        "colab": {
          "base_uri": "https://localhost:8080/"
        },
        "id": "PviDPSMm88uY",
        "outputId": "a5549d9a-a038-47d5-e983-5b0f7f7a1de4"
      },
      "execution_count": 8,
      "outputs": [
        {
          "output_type": "stream",
          "name": "stdout",
          "text": [
            "94/94 [==============================] - 0s 2ms/step\n",
            "      Displacement u [m]  Curvature kappa [m-1]\n",
            "0               2.381975               9.345537\n",
            "1               2.215890               9.751204\n",
            "2               2.853569              11.667773\n",
            "3              13.002719              20.431468\n",
            "4               6.437471              14.553743\n",
            "...                  ...                    ...\n",
            "2995           11.012983              19.405056\n",
            "2996            3.931643               9.758343\n",
            "2997           13.543140              20.655512\n",
            "2998           12.150224              18.614196\n",
            "2999            4.631457              13.564530\n",
            "\n",
            "[3000 rows x 2 columns]\n"
          ]
        }
      ]
    },
    {
      "cell_type": "code",
      "source": [
        "# Evaluate the mdoel on the test data and compare the error between predictions and true data\n",
        "import matplotlib.pyplot as plt\n",
        "plt.plot(test_data_disp, pred_data_disp, 'o')\n",
        "plt.show()\n",
        "plt.plot(test_data_kappa, pred_data_kappa, '*')\n",
        "plt.show()"
      ],
      "metadata": {
        "colab": {
          "base_uri": "https://localhost:8080/",
          "height": 514
        },
        "id": "5WKotmjf9aYF",
        "outputId": "5cd34c27-7c5d-4e8b-e909-dd8b55f4c7bf"
      },
      "execution_count": 9,
      "outputs": [
        {
          "output_type": "display_data",
          "data": {
            "text/plain": [
              "<Figure size 432x288 with 1 Axes>"
            ],
            "image/png": "[encoded data removed]"
          },
          "metadata": {
            "needs_background": "light"
          }
        },
        {
          "output_type": "display_data",
          "data": {
            "text/plain": [
              "<Figure size 432x288 with 1 Axes>"
            ],
            "image/png": "[encoded data removed]"
          },
          "metadata": {
            "needs_background": "light"
          }
        }
      ]
    },
    {
      "cell_type": "code",
      "source": [
        "print(inputs.mean()[0])\n",
        "print(inputs.std())"
      ],
      "metadata": {
        "colab": {
          "base_uri": "https://localhost:8080/"
        },
        "id": "42eYhQnz-Ybt",
        "outputId": "0c1efe19-8177-41c1-fc47-a0611eaf48ce"
      },
      "execution_count": 10,
      "outputs": [
        {
          "output_type": "stream",
          "name": "stdout",
          "text": [
            "1.5000000000000002\n",
            "Coordinate x [m]             0.288718\n",
            "Distributed load q [kN/m]    0.288718\n",
            "dtype: float64\n"
          ]
        }
      ]
    },
    {
      "cell_type": "code",
      "source": [
        "import tensorflow as tf\n",
        "def F_model(model,x_norm,q_norm):\n",
        "    x_norm = tf.Variable(x_norm)\n",
        "    q_norm = tf.Variable(q_norm)\n",
        "    with tf.GradientTape() as g:\n",
        "      g.watch(x_norm)\n",
        "      with tf.GradientTape() as gg:\n",
        "        gg.watch(x_norm)\n",
        "        u_norm = model(tf.stack([x_norm,q_norm], axis=1))[:,0]\n",
        "      du_norm_dx_norm = gg.gradient(u_norm, x_norm)  \n",
        "    d2u_norm_dx_norm2 = g.gradient(du_norm_dx_norm, x_norm)  \n",
        "\n",
        "    # Chain rule\n",
        "    du_du_norm = outputs.std()[0]\n",
        "    dx_norm_dx = 1/inputs.std()[0]\n",
        "    d2u_dx2 =  du_du_norm *  d2u_norm_dx_norm2 * dx_norm_dx**2\n",
        "\n",
        "    u = u_norm * outputs.std()[0] + outputs.mean()[0]\n",
        "\n",
        "    return u, d2u_dx2"
      ],
      "metadata": {
        "id": "6ATanK1t998H"
      },
      "execution_count": 11,
      "outputs": []
    },
    {
      "cell_type": "code",
      "source": [
        "x_norm = inputs_norm_test.to_numpy()[:,0]\n",
        "q_norm = inputs_norm_test.to_numpy()[:,1]\n",
        "[u, d2u_dx2] = F_model(model, x_norm, q_norm)\n",
        "print(d2u_dx2)\n",
        "plt.plot(d2u_dx2, test_data_kappa, '*')\n",
        "plt.show()"
      ],
      "metadata": {
        "colab": {
          "base_uri": "https://localhost:8080/",
          "height": 317
        },
        "id": "dMnY-b48ArVW",
        "outputId": "0eb8e4c6-b557-4cb3-c58f-770b3bf513c1"
      },
      "execution_count": 12,
      "outputs": [
        {
          "output_type": "stream",
          "name": "stdout",
          "text": [
            "tf.Tensor(\n",
            "[ 9.06644481  9.60675951 11.15333713 ... 30.13883411 15.131172\n",
            " 13.10647546], shape=(3000,), dtype=float64)\n"
          ]
        },
        {
          "output_type": "display_data",
          "data": {
            "text/plain": [
              "<Figure size 432x288 with 1 Axes>"
            ],
            "image/png": "[encoded data removed]"
          },
          "metadata": {
            "needs_background": "light"
          }
        }
      ]
    }
  ]
}