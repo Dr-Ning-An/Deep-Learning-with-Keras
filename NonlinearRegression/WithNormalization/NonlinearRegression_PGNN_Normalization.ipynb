{
  "nbformat": 4,
  "nbformat_minor": 0,
  "metadata": {
    "colab": {
      "provenance": []
    },
    "kernelspec": {
      "name": "python3",
      "display_name": "Python 3"
    },
    "language_info": {
      "name": "python"
    }
  },
  "cells": [
    {
      "cell_type": "markdown",
      "source": [
        "### Download Data"
      ],
      "metadata": {
        "id": "lh48dYvw6JKA"
      }
    },
    {
      "cell_type": "code",
      "source": [
        "import pandas as pd\n",
        "import numpy as np\n",
        "# read data to pandas frame\n",
        "url = 'https://raw.githubusercontent.com/Dr-Ning-An/Deep-Learning-with-Keras/main/NonlinearRegression/Data.csv'\n",
        "data = pd.read_csv(url)\n",
        "data.shape\n",
        "# print(data.head(5))"
      ],
      "metadata": {
        "colab": {
          "base_uri": "https://localhost:8080/"
        },
        "id": "dEpOdeYy6PVu",
        "outputId": "a5824c5d-915a-41af-af86-312a2422abc0"
      },
      "execution_count": 1,
      "outputs": [
        {
          "output_type": "execute_result",
          "data": {
            "text/plain": [
              "(10000, 4)"
            ]
          },
          "metadata": {},
          "execution_count": 1
        }
      ]
    },
    {
      "cell_type": "code",
      "source": [
        "inputs = data.iloc[:, 0:2]\n",
        "inputs_norm = (inputs - inputs.mean()) / inputs.std()\n",
        "n_inputs_norm = inputs_norm.shape[1]\n",
        "print(inputs_norm.head(5))\n",
        "outputs = data.iloc[:, 2:4]\n",
        "outputs_norm = (outputs - outputs.mean()) / outputs.std()\n",
        "n_outputs_norm = outputs_norm.shape[1]\n",
        "print(outputs_norm.head(5))"
      ],
      "metadata": {
        "colab": {
          "base_uri": "https://localhost:8080/"
        },
        "id": "ZE4cto1e6Ymz",
        "outputId": "cf716066-eed8-42aa-c81f-f3e11a24825e"
      },
      "execution_count": 2,
      "outputs": [
        {
          "output_type": "stream",
          "name": "stdout",
          "text": [
            "   Coordinate x [m]  Distributed load q [kN/m]\n",
            "0          1.522223                  -1.407221\n",
            "1         -1.420730                   1.508714\n",
            "2         -0.901141                  -0.937512\n",
            "3          0.314005                  -1.665284\n",
            "4         -0.920193                   1.273167\n",
            "   Displacement u [m]  Curvature kappa [m-1]\n",
            "0            0.722879              -0.207977\n",
            "1           -0.955251              -0.227143\n",
            "2           -1.005059              -1.176568\n",
            "3           -0.465783              -1.019123\n",
            "4           -0.646611               0.090442\n"
          ]
        }
      ]
    },
    {
      "cell_type": "code",
      "source": [
        "from sklearn.model_selection import train_test_split\n",
        "# Randomly split the data into a training and test sets by holding 30% of the data for testing.\n",
        "inputs_norm_train, inputs_norm_test, outputs_norm_train, outputs_norm_test = \\\n",
        "    train_test_split(inputs_norm, outputs_norm, test_size = 0.3, random_state=0)"
      ],
      "metadata": {
        "id": "2nJnITe-631U"
      },
      "execution_count": 3,
      "outputs": []
    },
    {
      "cell_type": "code",
      "source": [
        "import keras\n",
        "from keras.layers import Dense\n",
        "import tensorflow as tf\n",
        "\n",
        "# define regression model using Functional API\n",
        "def build_model():\n",
        "    # create model\n",
        "    inputs = tf.keras.Input(shape=(n_inputs_norm,), dtype=tf.float64)\n",
        "    dense1 = Dense(128, activation='tanh')(inputs)\n",
        "    dense2 = Dense(64, activation='tanh')(dense1)\n",
        "    dense3 = Dense(32, activation='tanh')(dense2)\n",
        "    dense4 = Dense(16, activation='tanh')(dense3)\n",
        "    outputs = Dense(n_outputs_norm)(dense4)\n",
        "    \n",
        "    model = tf.keras.Model(inputs=inputs, outputs=outputs)\n",
        "    return model"
      ],
      "metadata": {
        "id": "gbxwPLrI7Xic"
      },
      "execution_count": 4,
      "outputs": []
    },
    {
      "cell_type": "code",
      "source": [
        "# build the model\n",
        "model = build_model()\n",
        "model.summary()"
      ],
      "metadata": {
        "colab": {
          "base_uri": "https://localhost:8080/"
        },
        "id": "VSw_xD207hgp",
        "outputId": "c6ec426e-e6e5-4c4e-cda9-bc67265d8bcb"
      },
      "execution_count": 5,
      "outputs": [
        {
          "output_type": "stream",
          "name": "stdout",
          "text": [
            "Model: \"model\"\n",
            "_________________________________________________________________\n",
            " Layer (type)                Output Shape              Param #   \n",
            "=================================================================\n",
            " input_1 (InputLayer)        [(None, 2)]               0         \n",
            "                                                                 \n",
            " dense (Dense)               (None, 128)               384       \n",
            "                                                                 \n",
            " dense_1 (Dense)             (None, 64)                8256      \n",
            "                                                                 \n",
            " dense_2 (Dense)             (None, 32)                2080      \n",
            "                                                                 \n",
            " dense_3 (Dense)             (None, 16)                528       \n",
            "                                                                 \n",
            " dense_4 (Dense)             (None, 2)                 34        \n",
            "                                                                 \n",
            "=================================================================\n",
            "Total params: 11,282\n",
            "Trainable params: 11,282\n",
            "Non-trainable params: 0\n",
            "_________________________________________________________________\n"
          ]
        }
      ]
    },
    {
      "cell_type": "code",
      "source": [
        "optimizer = tf.keras.optimizers.Adam()"
      ],
      "metadata": {
        "id": "aKOZUm8I7keR"
      },
      "execution_count": 6,
      "outputs": []
    },
    {
      "cell_type": "code",
      "source": [
        "BATCH_SIZE = 60\n",
        "EPOCHS = 200"
      ],
      "metadata": {
        "id": "DJW0PyLgHji2"
      },
      "execution_count": 7,
      "outputs": []
    },
    {
      "cell_type": "code",
      "source": [
        "dataset = tf.data.Dataset.from_tensor_slices((inputs_norm_train, outputs_norm_train))\n",
        "dataset = dataset.batch(BATCH_SIZE)"
      ],
      "metadata": {
        "id": "7iE-d7jyHm6d"
      },
      "execution_count": 8,
      "outputs": []
    },
    {
      "cell_type": "code",
      "source": [
        "def PGNN(x_norm, q_norm):\n",
        "    x_norm = tf.Variable(x_norm)\n",
        "    q_norm = tf.Variable(q_norm)\n",
        "    with tf.GradientTape() as g:\n",
        "      g.watch(x_norm)\n",
        "      with tf.GradientTape() as gg:\n",
        "        gg.watch(x_norm)\n",
        "        outputs_norm_pred = tf.cast(model(tf.stack([x_norm,q_norm], axis=1)), tf.float64)\n",
        "        u_norm = outputs_norm_pred[:,0]\n",
        "      du_norm_dx_norm = gg.gradient(u_norm, x_norm) \n",
        "    d2u_norm_dx_norm2 = g.gradient(du_norm_dx_norm, x_norm) \n",
        "\n",
        "    # Chain rule\n",
        "    du_du_norm = outputs.std()[0]\n",
        "    dx_norm_dx = 1/inputs.std()[0]\n",
        "    d2u_dx2 =  du_du_norm *  d2u_norm_dx_norm2 * dx_norm_dx**2\n",
        "\n",
        "    kappa_norm = outputs_norm_pred[:,1]\n",
        "    kappa = kappa_norm * outputs.std()[1] + outputs.mean()[1]\n",
        "    \n",
        "    residual = d2u_dx2 - kappa\n",
        "\n",
        "    return residual"
      ],
      "metadata": {
        "id": "Y0csi3toHobu"
      },
      "execution_count": 9,
      "outputs": []
    },
    {
      "cell_type": "code",
      "source": [
        "def train_step(inputs, outputs):\n",
        "    with tf.GradientTape() as tape:\n",
        "        outputs_pred = tf.cast(model(inputs), tf.float64)\n",
        "        residual = PGNN(inputs[:,0],inputs[:,1])\n",
        "        loss1 = tf.losses.MeanSquaredError()(outputs, outputs_pred) \n",
        "        loss2 = tf.reduce_mean(tf.square(residual))\n",
        "        loss = loss1 + loss2\n",
        "\n",
        "    grads = tape.gradient(loss, model.trainable_weights)\n",
        "    optimizer.apply_gradients(zip(grads, model.trainable_weights))\n",
        "    return loss\n",
        "\n",
        "loss_hist = []\n",
        "for epoch in range(EPOCHS):\n",
        "    ep_loss = []\n",
        "    for step, (inputs_norm_train_batch, outputs_norm_train_batch) in enumerate(dataset):\n",
        "        loss_i = train_step(inputs_norm_train_batch, outputs_norm_train_batch)\n",
        "        ep_loss.append(loss_i)\n",
        "\n",
        "    if epoch % 1 == 0:\n",
        "        print(f\"Epoch {epoch} Loss: {tf.reduce_mean(ep_loss)}\")"
      ],
      "metadata": {
        "colab": {
          "base_uri": "https://localhost:8080/"
        },
        "id": "qWjvmwbuIiIU",
        "outputId": "5fc45542-0538-4b05-9bbe-50a7510efe86"
      },
      "execution_count": 10,
      "outputs": [
        {
          "output_type": "stream",
          "name": "stdout",
          "text": [
            "Epoch 0 Loss: 29.881800524222843\n",
            "Epoch 1 Loss: 3.1939223198866\n",
            "Epoch 2 Loss: 1.9312020360512054\n",
            "Epoch 3 Loss: 1.0638581769410804\n",
            "Epoch 4 Loss: 0.9776514095227874\n",
            "Epoch 5 Loss: 0.5789449806697542\n",
            "Epoch 6 Loss: 0.4353435694443928\n",
            "Epoch 7 Loss: 0.36981790804853487\n",
            "Epoch 8 Loss: 0.28063599276631307\n",
            "Epoch 9 Loss: 0.24151760839229075\n",
            "Epoch 10 Loss: 0.22823461731157596\n",
            "Epoch 11 Loss: 0.23494239932507593\n",
            "Epoch 12 Loss: 0.22354700726157073\n",
            "Epoch 13 Loss: 0.1223847869454357\n",
            "Epoch 14 Loss: 0.16921690577614262\n",
            "Epoch 15 Loss: 0.1254658735912779\n",
            "Epoch 16 Loss: 0.11282611469868405\n",
            "Epoch 17 Loss: 0.09168051895368859\n",
            "Epoch 18 Loss: 0.08531247315494254\n",
            "Epoch 19 Loss: 0.08170429495273698\n",
            "Epoch 20 Loss: 0.046817623662128605\n",
            "Epoch 21 Loss: 0.10567429224280804\n",
            "Epoch 22 Loss: 0.0421995314709255\n",
            "Epoch 23 Loss: 0.057077238952921064\n",
            "Epoch 24 Loss: 0.06518584504837074\n",
            "Epoch 25 Loss: 0.046048590340707275\n",
            "Epoch 26 Loss: 0.03166687783879507\n",
            "Epoch 27 Loss: 0.04288903395908991\n",
            "Epoch 28 Loss: 0.15718396888415218\n",
            "Epoch 29 Loss: 0.03703090494034566\n",
            "Epoch 30 Loss: 0.025077768346942742\n",
            "Epoch 31 Loss: 0.048887422456718344\n",
            "Epoch 32 Loss: 0.05265729097492117\n",
            "Epoch 33 Loss: 0.06632162931514853\n",
            "Epoch 34 Loss: 0.03139453349441639\n",
            "Epoch 35 Loss: 0.11483938399787082\n",
            "Epoch 36 Loss: 0.02950492146150211\n",
            "Epoch 37 Loss: 0.032386248699829145\n",
            "Epoch 38 Loss: 0.06430408672870479\n",
            "Epoch 39 Loss: 0.03222778752065726\n",
            "Epoch 40 Loss: 0.04968944044552057\n",
            "Epoch 41 Loss: 0.04373453312805383\n",
            "Epoch 42 Loss: 0.06128872942559395\n",
            "Epoch 43 Loss: 0.03170375556268518\n",
            "Epoch 44 Loss: 0.0910811424908363\n",
            "Epoch 45 Loss: 0.02917105721414951\n",
            "Epoch 46 Loss: 0.032651041461056456\n",
            "Epoch 47 Loss: 0.04479776520483397\n",
            "Epoch 48 Loss: 0.03360596650048926\n",
            "Epoch 49 Loss: 0.0638726860931601\n",
            "Epoch 50 Loss: 0.022759307784486763\n",
            "Epoch 51 Loss: 0.07777506594172107\n",
            "Epoch 52 Loss: 0.03764026207347957\n",
            "Epoch 53 Loss: 0.02118148446591722\n",
            "Epoch 54 Loss: 0.060357942220256665\n",
            "Epoch 55 Loss: 0.020194505100238798\n",
            "Epoch 56 Loss: 0.05699983495945114\n",
            "Epoch 57 Loss: 0.023275992029222797\n",
            "Epoch 58 Loss: 0.030237424437336395\n",
            "Epoch 59 Loss: 0.04597793998060938\n",
            "Epoch 60 Loss: 0.03306796745172058\n",
            "Epoch 61 Loss: 0.04935534760672906\n",
            "Epoch 62 Loss: 0.02555254449617311\n",
            "Epoch 63 Loss: 0.053029167172777\n",
            "Epoch 64 Loss: 0.023890395398704183\n",
            "Epoch 65 Loss: 0.018578549455824805\n",
            "Epoch 66 Loss: 0.08129878808806626\n",
            "Epoch 67 Loss: 0.024200047959985226\n",
            "Epoch 68 Loss: 0.016032092704841454\n",
            "Epoch 69 Loss: 0.05889490000502097\n",
            "Epoch 70 Loss: 0.021162475981335315\n",
            "Epoch 71 Loss: 0.010259454824203712\n",
            "Epoch 72 Loss: 0.06278306508258788\n",
            "Epoch 73 Loss: 0.021931153509356493\n",
            "Epoch 74 Loss: 0.02073073239790544\n",
            "Epoch 75 Loss: 0.06322665704086874\n",
            "Epoch 76 Loss: 0.025285378662975918\n",
            "Epoch 77 Loss: 0.007270539132421224\n",
            "Epoch 78 Loss: 0.01592038205293619\n",
            "Epoch 79 Loss: 0.02392717678078099\n",
            "Epoch 80 Loss: 0.013085143317383717\n",
            "Epoch 81 Loss: 0.035245006090222145\n",
            "Epoch 82 Loss: 0.026288652326214437\n",
            "Epoch 83 Loss: 0.029779015014563582\n",
            "Epoch 84 Loss: 0.029394088257672125\n",
            "Epoch 85 Loss: 0.027424296623909716\n",
            "Epoch 86 Loss: 0.02666857322878141\n",
            "Epoch 87 Loss: 0.014480860921909632\n",
            "Epoch 88 Loss: 0.03787441635467989\n",
            "Epoch 89 Loss: 0.026955161444976287\n",
            "Epoch 90 Loss: 0.026760890985980237\n",
            "Epoch 91 Loss: 0.023538456760660055\n",
            "Epoch 92 Loss: 0.026704053508788406\n",
            "Epoch 93 Loss: 0.020728837568209712\n",
            "Epoch 94 Loss: 0.033716592867216615\n",
            "Epoch 95 Loss: 0.016718732733414825\n",
            "Epoch 96 Loss: 0.023476681098566918\n",
            "Epoch 97 Loss: 0.029344885831416992\n",
            "Epoch 98 Loss: 0.011547867222394252\n",
            "Epoch 99 Loss: 0.040513118970596035\n",
            "Epoch 100 Loss: 0.014961617223688915\n",
            "Epoch 101 Loss: 0.024158660480682343\n",
            "Epoch 102 Loss: 0.022935630882790378\n",
            "Epoch 103 Loss: 0.028645222195815803\n",
            "Epoch 104 Loss: 0.020184586733835483\n",
            "Epoch 105 Loss: 0.026247191260267144\n",
            "Epoch 106 Loss: 0.01802149202104362\n",
            "Epoch 107 Loss: 0.036603664438791775\n",
            "Epoch 108 Loss: 0.009522720463207979\n",
            "Epoch 109 Loss: 0.00898491588263171\n",
            "Epoch 110 Loss: 0.043025261299186365\n",
            "Epoch 111 Loss: 0.011992700363883061\n",
            "Epoch 112 Loss: 0.016292201624462863\n",
            "Epoch 113 Loss: 0.0288209136713289\n",
            "Epoch 114 Loss: 0.015326055384189578\n",
            "Epoch 115 Loss: 0.028770481277227304\n",
            "Epoch 116 Loss: 0.016073788283886222\n",
            "Epoch 117 Loss: 0.008356000733230826\n",
            "Epoch 118 Loss: 0.038385007948881354\n",
            "Epoch 119 Loss: 0.013364535122388709\n",
            "Epoch 120 Loss: 0.014598136582841216\n",
            "Epoch 121 Loss: 0.026323931186179626\n",
            "Epoch 122 Loss: 0.015835536734727467\n",
            "Epoch 123 Loss: 0.019141673068794798\n",
            "Epoch 124 Loss: 0.020965170870983308\n",
            "Epoch 125 Loss: 0.00842853177639711\n",
            "Epoch 126 Loss: 0.06082425810746246\n",
            "Epoch 127 Loss: 0.018256843292500446\n",
            "Epoch 128 Loss: 0.020042637539067067\n",
            "Epoch 129 Loss: 0.02008573639247858\n",
            "Epoch 130 Loss: 0.017095673289237875\n",
            "Epoch 131 Loss: 0.005661633138885723\n",
            "Epoch 132 Loss: 0.008135870659625162\n",
            "Epoch 133 Loss: 0.10434679240903336\n",
            "Epoch 134 Loss: 0.0094271717138111\n",
            "Epoch 135 Loss: 0.003716363787924765\n",
            "Epoch 136 Loss: 0.004983909004358681\n",
            "Epoch 137 Loss: 0.02344097461210007\n",
            "Epoch 138 Loss: 0.010591253288840101\n",
            "Epoch 139 Loss: 0.012481748642989\n",
            "Epoch 140 Loss: 0.0061224356128439655\n",
            "Epoch 141 Loss: 0.014241845542949653\n",
            "Epoch 142 Loss: 0.05152860676347598\n",
            "Epoch 143 Loss: 0.019842823026502202\n",
            "Epoch 144 Loss: 0.007133282849699435\n",
            "Epoch 145 Loss: 0.009822249618394946\n",
            "Epoch 146 Loss: 0.006585628523623355\n",
            "Epoch 147 Loss: 0.02666245804087618\n",
            "Epoch 148 Loss: 0.00788465136620848\n",
            "Epoch 149 Loss: 0.03684387756956508\n",
            "Epoch 150 Loss: 0.01494712934469775\n",
            "Epoch 151 Loss: 0.007163893173173039\n",
            "Epoch 152 Loss: 0.008819231088836602\n",
            "Epoch 153 Loss: 0.048511243368499504\n",
            "Epoch 154 Loss: 0.007313807457972165\n",
            "Epoch 155 Loss: 0.008216201639465725\n",
            "Epoch 156 Loss: 0.005745130904408908\n",
            "Epoch 157 Loss: 0.02898657576434179\n",
            "Epoch 158 Loss: 0.011622543757874882\n",
            "Epoch 159 Loss: 0.007171189101528209\n",
            "Epoch 160 Loss: 0.011663097688616834\n",
            "Epoch 161 Loss: 0.015543209227552915\n",
            "Epoch 162 Loss: 0.014836949032576558\n",
            "Epoch 163 Loss: 0.09913888097015722\n",
            "Epoch 164 Loss: 0.0045976206344493925\n",
            "Epoch 165 Loss: 0.0024520221995662094\n",
            "Epoch 166 Loss: 0.003772976847793035\n",
            "Epoch 167 Loss: 0.01224787323096308\n",
            "Epoch 168 Loss: 0.004032297275374092\n",
            "Epoch 169 Loss: 0.003880915381865662\n",
            "Epoch 170 Loss: 0.04100841803851299\n",
            "Epoch 171 Loss: 0.008817019466831826\n",
            "Epoch 172 Loss: 0.010497432006378732\n",
            "Epoch 173 Loss: 0.006806190831692797\n",
            "Epoch 174 Loss: 0.009401058055149772\n",
            "Epoch 175 Loss: 0.03076966619676388\n",
            "Epoch 176 Loss: 0.007782975688384464\n",
            "Epoch 177 Loss: 0.007373520920359342\n",
            "Epoch 178 Loss: 0.023001466933510094\n",
            "Epoch 179 Loss: 0.012461640381391486\n",
            "Epoch 180 Loss: 0.0072238041888459175\n",
            "Epoch 181 Loss: 0.017388454014070662\n",
            "Epoch 182 Loss: 0.04569072143185982\n",
            "Epoch 183 Loss: 0.006439769944043501\n",
            "Epoch 184 Loss: 0.006062352784457468\n",
            "Epoch 185 Loss: 0.00490777425418284\n",
            "Epoch 186 Loss: 0.007516824087987647\n",
            "Epoch 187 Loss: 0.020962770480816118\n",
            "Epoch 188 Loss: 0.01621896936690077\n",
            "Epoch 189 Loss: 0.004322476644302961\n",
            "Epoch 190 Loss: 0.012700919537671277\n",
            "Epoch 191 Loss: 0.009263800390220163\n",
            "Epoch 192 Loss: 0.01748231306175798\n",
            "Epoch 193 Loss: 0.020865293620382815\n",
            "Epoch 194 Loss: 0.0037562779892396482\n",
            "Epoch 195 Loss: 0.011378559776305443\n",
            "Epoch 196 Loss: 0.013586522056802155\n",
            "Epoch 197 Loss: 0.007022854163113466\n",
            "Epoch 198 Loss: 0.017436570501780168\n",
            "Epoch 199 Loss: 0.015346368249415845\n"
          ]
        }
      ]
    },
    {
      "cell_type": "code",
      "source": [
        "test_data = outputs_norm_test * outputs.std() + outputs.mean()\n",
        "print(test_data)\n",
        "test_data_disp = test_data.to_numpy()[:,0]\n",
        "test_data_kappa = test_data.to_numpy()[:,1]"
      ],
      "metadata": {
        "colab": {
          "base_uri": "https://localhost:8080/"
        },
        "id": "mybkY2MjN_Kk",
        "outputId": "7b48f50b-6e54-436b-daa5-df5fe0a61731"
      },
      "execution_count": 11,
      "outputs": [
        {
          "output_type": "stream",
          "name": "stdout",
          "text": [
            "      Displacement u [m]  Curvature kappa [m-1]\n",
            "9394            2.374574               9.334805\n",
            "898             2.212246               9.747763\n",
            "2398            2.851196              11.662809\n",
            "5906           13.029009              20.449480\n",
            "2343            6.448158              14.567710\n",
            "...                  ...                    ...\n",
            "4004           11.032060              19.409858\n",
            "7375            3.926963               9.757329\n",
            "9307           13.574592              20.677069\n",
            "8394           12.160769              18.607801\n",
            "5233            4.635886              13.574874\n",
            "\n",
            "[3000 rows x 2 columns]\n"
          ]
        }
      ]
    },
    {
      "cell_type": "code",
      "source": [
        "pred_data_norm = model.predict(inputs_norm_test)\n",
        "pred_data_norm_df = pd.DataFrame(pred_data_norm, columns = ['Displacement u [m]','Curvature kappa [m-1]'])\n",
        "pred_data_df = pred_data_norm_df * outputs.std() + outputs.mean()\n",
        "print(pred_data_df)\n",
        "pred_data_disp = pred_data_df.to_numpy()[:,0]\n",
        "pred_data_kappa = pred_data_df.to_numpy()[:,1]"
      ],
      "metadata": {
        "colab": {
          "base_uri": "https://localhost:8080/"
        },
        "id": "oaRqpgmsODus",
        "outputId": "8f2633ad-0a09-44d0-a1c1-94a47cb5c127"
      },
      "execution_count": 12,
      "outputs": [
        {
          "output_type": "stream",
          "name": "stdout",
          "text": [
            "94/94 [==============================] - 0s 1ms/step\n",
            "      Displacement u [m]  Curvature kappa [m-1]\n",
            "0               2.364724               9.180284\n",
            "1               2.243100               9.635612\n",
            "2               2.900850              11.593477\n",
            "3              12.988190              20.498561\n",
            "4               6.443552              14.511677\n",
            "...                  ...                    ...\n",
            "2995           11.002512              19.490296\n",
            "2996            3.894128               9.759139\n",
            "2997           13.531002              20.720142\n",
            "2998           12.114376              18.744579\n",
            "2999            4.659366              13.488950\n",
            "\n",
            "[3000 rows x 2 columns]\n"
          ]
        }
      ]
    },
    {
      "cell_type": "code",
      "source": [
        "# Evaluate the mdoel on the test data and compare the error between predictions and true data\n",
        "import matplotlib.pyplot as plt\n",
        "plt.plot(test_data_disp, pred_data_disp, 'o')\n",
        "plt.show()\n",
        "plt.plot(test_data_kappa, pred_data_kappa, '*')\n",
        "plt.show()"
      ],
      "metadata": {
        "colab": {
          "base_uri": "https://localhost:8080/",
          "height": 513
        },
        "id": "o4-NN9LvOIW0",
        "outputId": "fad13401-9cb0-44e6-ff06-67faf9911864"
      },
      "execution_count": 13,
      "outputs": [
        {
          "output_type": "display_data",
          "data": {
            "text/plain": [
              "<Figure size 432x288 with 1 Axes>"
            ],
            "image/png": "[encoded data removed]"
          },
          "metadata": {
            "needs_background": "light"
          }
        },
        {
          "output_type": "display_data",
          "data": {
            "text/plain": [
              "<Figure size 432x288 with 1 Axes>"
            ],
            "image/png": "[encoded data removed]"
          },
          "metadata": {
            "needs_background": "light"
          }
        }
      ]
    },
    {
      "cell_type": "code",
      "source": [
        "import tensorflow as tf\n",
        "def F_model(model,x_norm,q_norm):\n",
        "    x_norm = tf.Variable(x_norm)\n",
        "    q_norm = tf.Variable(q_norm)\n",
        "    with tf.GradientTape() as g:\n",
        "      g.watch(x_norm)\n",
        "      with tf.GradientTape() as gg:\n",
        "        gg.watch(x_norm)\n",
        "        u_norm = model(tf.stack([x_norm,q_norm], axis=1))[:,0]\n",
        "      du_norm_dx_norm = gg.gradient(u_norm, x_norm)  \n",
        "    d2u_norm_dx_norm2 = g.gradient(du_norm_dx_norm, x_norm)  \n",
        "\n",
        "    # Chain rule\n",
        "    du_du_norm = outputs.std()[0]\n",
        "    dx_norm_dx = 1/inputs.std()[0]\n",
        "    d2u_dx2 =  du_du_norm *  d2u_norm_dx_norm2 * dx_norm_dx**2\n",
        "\n",
        "    u = u_norm * outputs.std()[0] + outputs.mean()[0]\n",
        "\n",
        "    return u, d2u_dx2"
      ],
      "metadata": {
        "id": "Z2x6gEsdOTAS"
      },
      "execution_count": 14,
      "outputs": []
    },
    {
      "cell_type": "code",
      "source": [
        "x_norm = inputs_norm_test.to_numpy()[:,0]\n",
        "q_norm = inputs_norm_test.to_numpy()[:,1]\n",
        "[u, d2u_dx2] = F_model(model, x_norm, q_norm)\n",
        "print(d2u_dx2)\n",
        "plt.plot(d2u_dx2, test_data_kappa, '*')\n",
        "plt.show()"
      ],
      "metadata": {
        "colab": {
          "base_uri": "https://localhost:8080/",
          "height": 317
        },
        "id": "ImncFz-rOVhM",
        "outputId": "9e8a5c13-8e1b-4fa0-bd09-3838379e1138"
      },
      "execution_count": 15,
      "outputs": [
        {
          "output_type": "stream",
          "name": "stdout",
          "text": [
            "tf.Tensor(\n",
            "[ 9.21041258  9.67259332 11.61780251 ... 20.75977185 18.79142715\n",
            " 13.5135359 ], shape=(3000,), dtype=float64)\n"
          ]
        },
        {
          "output_type": "display_data",
          "data": {
            "text/plain": [
              "<Figure size 432x288 with 1 Axes>"
            ],
            "image/png": "[encoded data removed]"
          },
          "metadata": {
            "needs_background": "light"
          }
        }
      ]
    }
  ]
}