{
  "nbformat": 4,
  "nbformat_minor": 0,
  "metadata": {
    "colab": {
      "provenance": []
    },
    "kernelspec": {
      "name": "python3",
      "display_name": "Python 3"
    },
    "language_info": {
      "name": "python"
    }
  },
  "cells": [
    {
      "cell_type": "markdown",
      "source": [
        "### Download Data"
      ],
      "metadata": {
        "id": "GkdUdOCehMWU"
      }
    },
    {
      "cell_type": "code",
      "source": [
        "import pandas as pd\n",
        "import numpy as np\n",
        "# read data to pandas frame\n",
        "url = 'https://raw.githubusercontent.com/Dr-Ning-An/Deep-Learning-with-Keras/main/FixedBeam/FixedBeamData.csv'\n",
        "data = pd.read_csv(url)\n",
        "data.shape\n",
        "# print(data.head(5))"
      ],
      "metadata": {
        "colab": {
          "base_uri": "https://localhost:8080/"
        },
        "id": "Kj98lRCPhRHo",
        "outputId": "48326ca4-84db-46c5-e29d-1d036400986f"
      },
      "execution_count": 1,
      "outputs": [
        {
          "output_type": "execute_result",
          "data": {
            "text/plain": [
              "(5000, 4)"
            ]
          },
          "metadata": {},
          "execution_count": 1
        }
      ]
    },
    {
      "cell_type": "code",
      "source": [
        "n = 5000; # data size"
      ],
      "metadata": {
        "id": "ANrRDT-_hd1l"
      },
      "execution_count": 2,
      "outputs": []
    },
    {
      "cell_type": "code",
      "source": [
        "inputs = data.iloc[:, 0:2][0:n] # read the first two columns n size data as inputs\n",
        "# Normalize the inputs\n",
        "inputs_norm = (inputs - inputs.mean()) / inputs.std()\n",
        "n_inputs_norm = inputs_norm.shape[1]\n",
        "print(inputs_norm.head(5))\n",
        "outputs = data.iloc[:, 2:4][0:n] # read the last two columns n size data as inputs\n",
        "# Normalize the outputs\n",
        "outputs_norm = (outputs - outputs.mean()) / outputs.std()\n",
        "n_outputs_norm = outputs_norm.shape[1]\n",
        "print(outputs_norm.head(5))"
      ],
      "metadata": {
        "colab": {
          "base_uri": "https://localhost:8080/"
        },
        "id": "I8Q-tSskhYAN",
        "outputId": "debc30ad-5021-4995-b274-920713122bb3"
      },
      "execution_count": 3,
      "outputs": [
        {
          "output_type": "stream",
          "name": "stdout",
          "text": [
            "   Coordinate x [m]  Distributed load q [kN/m]\n",
            "0         -1.455816                  -1.561807\n",
            "1          0.923784                   1.380999\n",
            "2          1.618613                   1.443347\n",
            "3          1.435727                  -0.178383\n",
            "4         -1.290942                   0.628672\n",
            "   Displacement u [m]  Curvature kappa [m-1]\n",
            "0            1.231600              -0.666018\n",
            "1           -0.460458               0.218307\n",
            "2            1.293882              -2.480789\n",
            "3            1.116590              -1.089553\n",
            "4            0.761128              -0.853157\n"
          ]
        }
      ]
    },
    {
      "cell_type": "code",
      "source": [
        "from sklearn.model_selection import train_test_split\n",
        "# Randomly split the data into a training and test sets by holding 30% of the data for testing.\n",
        "inputs_norm_train, inputs_norm_test, outputs_norm_train, outputs_norm_test = \\\n",
        "    train_test_split(inputs_norm, outputs_norm, test_size = 0.3, random_state=0)"
      ],
      "metadata": {
        "id": "nVD457b0ibiX"
      },
      "execution_count": 4,
      "outputs": []
    },
    {
      "cell_type": "code",
      "source": [
        "import keras\n",
        "from keras.layers import Dense\n",
        "import tensorflow as tf\n",
        "\n",
        "# define regression model using Functional API\n",
        "def build_model():\n",
        "    # create model\n",
        "    inputs = tf.keras.Input(shape=(n_inputs_norm,), dtype=tf.float64)\n",
        "    dense1 = Dense(20, activation='tanh')(inputs)\n",
        "    dense2 = Dense(20, activation='tanh')(dense1)\n",
        "    dense3 = Dense(20, activation='tanh')(dense2)\n",
        "    outputs = Dense(n_outputs_norm)(dense3)\n",
        "    \n",
        "    model = tf.keras.Model(inputs=inputs, outputs=outputs)\n",
        "    return model"
      ],
      "metadata": {
        "id": "Kh1mfSoViiq5"
      },
      "execution_count": 5,
      "outputs": []
    },
    {
      "cell_type": "code",
      "source": [
        "# build the model\n",
        "model = build_model()\n",
        "model.summary()"
      ],
      "metadata": {
        "colab": {
          "base_uri": "https://localhost:8080/"
        },
        "id": "NPWtKqL1jSnu",
        "outputId": "2a49d7f9-12f2-44ec-95f9-c03725b08085"
      },
      "execution_count": 6,
      "outputs": [
        {
          "output_type": "stream",
          "name": "stdout",
          "text": [
            "Model: \"model\"\n",
            "_________________________________________________________________\n",
            " Layer (type)                Output Shape              Param #   \n",
            "=================================================================\n",
            " input_1 (InputLayer)        [(None, 2)]               0         \n",
            "                                                                 \n",
            " dense (Dense)               (None, 20)                60        \n",
            "                                                                 \n",
            " dense_1 (Dense)             (None, 20)                420       \n",
            "                                                                 \n",
            " dense_2 (Dense)             (None, 20)                420       \n",
            "                                                                 \n",
            " dense_3 (Dense)             (None, 2)                 42        \n",
            "                                                                 \n",
            "=================================================================\n",
            "Total params: 942\n",
            "Trainable params: 942\n",
            "Non-trainable params: 0\n",
            "_________________________________________________________________\n"
          ]
        }
      ]
    },
    {
      "cell_type": "code",
      "source": [
        "optimizer = tf.keras.optimizers.Adam()"
      ],
      "metadata": {
        "id": "ZG0MPWE2jc68"
      },
      "execution_count": 7,
      "outputs": []
    },
    {
      "cell_type": "code",
      "source": [
        "BATCH_SIZE = 60\n",
        "EPOCHS = 300"
      ],
      "metadata": {
        "id": "srQHi5jCjgs8"
      },
      "execution_count": 8,
      "outputs": []
    },
    {
      "cell_type": "code",
      "source": [
        "dataset = tf.data.Dataset.from_tensor_slices((inputs_norm_train, outputs_norm_train))\n",
        "dataset = dataset.batch(BATCH_SIZE)"
      ],
      "metadata": {
        "id": "hkWOZErbjnc0"
      },
      "execution_count": 9,
      "outputs": []
    },
    {
      "cell_type": "code",
      "source": [
        "def PGNN(x_norm, q_norm):\n",
        "    x_norm = tf.Variable(x_norm)\n",
        "    q_norm = tf.Variable(q_norm)\n",
        "    with tf.GradientTape() as g:\n",
        "      g.watch(x_norm)\n",
        "      with tf.GradientTape() as gg:\n",
        "        gg.watch(x_norm)\n",
        "        outputs_norm_pred = tf.cast(model(tf.stack([x_norm,q_norm], axis=1)), tf.float64)\n",
        "        u_norm = outputs_norm_pred[:,0]\n",
        "      du_norm_dx_norm = gg.gradient(u_norm, x_norm) \n",
        "    d2u_norm_dx_norm2 = g.gradient(du_norm_dx_norm, x_norm) \n",
        "\n",
        "    # Chain rule\n",
        "    du_du_norm = outputs.std()[0]\n",
        "    dx_norm_dx = 1/inputs.std()[0]\n",
        "    d2u_dx2 =  du_du_norm *  d2u_norm_dx_norm2 * dx_norm_dx**2\n",
        "\n",
        "    kappa_norm = outputs_norm_pred[:,1]\n",
        "    kappa = kappa_norm * outputs.std()[1] + outputs.mean()[1]\n",
        "    \n",
        "    residual = d2u_dx2 - kappa\n",
        "\n",
        "    return residual"
      ],
      "metadata": {
        "id": "O--YDO01kGMx"
      },
      "execution_count": 10,
      "outputs": []
    },
    {
      "cell_type": "code",
      "source": [
        "def train_step(inputs, outputs):\n",
        "    with tf.GradientTape() as tape:\n",
        "        outputs_pred = tf.cast(model(inputs), tf.float64)\n",
        "        residual = PGNN(inputs[:,0],inputs[:,1])\n",
        "        loss1 = tf.losses.MeanSquaredError()(outputs, outputs_pred) \n",
        "        loss2 = tf.reduce_mean(tf.square(residual))\n",
        "        loss = loss1 + loss2\n",
        "\n",
        "    grads = tape.gradient(loss, model.trainable_weights)\n",
        "    optimizer.apply_gradients(zip(grads, model.trainable_weights))\n",
        "    return loss\n",
        "\n",
        "loss_hist = []\n",
        "for epoch in range(EPOCHS):\n",
        "    ep_loss = []\n",
        "    for step, (inputs_norm_train_batch, outputs_norm_train_batch) in enumerate(dataset):\n",
        "        loss_i = train_step(inputs_norm_train_batch, outputs_norm_train_batch)\n",
        "        ep_loss.append(loss_i)\n",
        "\n",
        "    if epoch % 1 == 0:\n",
        "        print(f\"Epoch {epoch} Loss: {tf.reduce_mean(ep_loss)}\")"
      ],
      "metadata": {
        "colab": {
          "base_uri": "https://localhost:8080/"
        },
        "id": "BU-Xz19LkN0T",
        "outputId": "54e1afb0-d640-498a-a58f-e87cf5ddd30d"
      },
      "execution_count": 11,
      "outputs": [
        {
          "output_type": "stream",
          "name": "stdout",
          "text": [
            "Epoch 0 Loss: 0.9010655696642865\n",
            "Epoch 1 Loss: 0.8054615426386804\n",
            "Epoch 2 Loss: 0.5853411282780495\n",
            "Epoch 3 Loss: 0.2424496676803007\n",
            "Epoch 4 Loss: 0.09239100179963629\n",
            "Epoch 5 Loss: 0.058954841695411\n",
            "Epoch 6 Loss: 0.04490816538487653\n",
            "Epoch 7 Loss: 0.035500513253340346\n",
            "Epoch 8 Loss: 0.028390329019625935\n",
            "Epoch 9 Loss: 0.023074759915606657\n",
            "Epoch 10 Loss: 0.019173499023337388\n",
            "Epoch 11 Loss: 0.01633894084479776\n",
            "Epoch 12 Loss: 0.014257559104991081\n",
            "Epoch 13 Loss: 0.012660050860940165\n",
            "Epoch 14 Loss: 0.011359727363495848\n",
            "Epoch 15 Loss: 0.010239419555286795\n",
            "Epoch 16 Loss: 0.009228505225219836\n",
            "Epoch 17 Loss: 0.008287622097738218\n",
            "Epoch 18 Loss: 0.007398128878483768\n",
            "Epoch 19 Loss: 0.006555688229196923\n",
            "Epoch 20 Loss: 0.005766171990651433\n",
            "Epoch 21 Loss: 0.005041858319007241\n",
            "Epoch 22 Loss: 0.004396757914037004\n",
            "Epoch 23 Loss: 0.0038416375716733256\n",
            "Epoch 24 Loss: 0.0033803167279954113\n",
            "Epoch 25 Loss: 0.0030085145199400722\n",
            "Epoch 26 Loss: 0.002715244574188608\n",
            "Epoch 27 Loss: 0.0024857603169311606\n",
            "Epoch 28 Loss: 0.002304699998627532\n",
            "Epoch 29 Loss: 0.0021584728994780327\n",
            "Epoch 30 Loss: 0.0020365043449447886\n",
            "Epoch 31 Loss: 0.0019314541684841403\n",
            "Epoch 32 Loss: 0.0018385944207082918\n",
            "Epoch 33 Loss: 0.0017549107880423212\n",
            "Epoch 34 Loss: 0.001678410977368389\n",
            "Epoch 35 Loss: 0.0016077416319368995\n",
            "Epoch 36 Loss: 0.0015418568906128722\n",
            "Epoch 37 Loss: 0.0014797256316313406\n",
            "Epoch 38 Loss: 0.0014202166128028538\n",
            "Epoch 39 Loss: 0.0013623083496417238\n",
            "Epoch 40 Loss: 0.0013054912094174857\n",
            "Epoch 41 Loss: 0.0012500970921615348\n",
            "Epoch 42 Loss: 0.0011971480783338974\n",
            "Epoch 43 Loss: 0.001147648259185084\n",
            "Epoch 44 Loss: 0.0011018735116472313\n",
            "Epoch 45 Loss: 0.0010593637784297812\n",
            "Epoch 46 Loss: 0.0010193270766794354\n",
            "Epoch 47 Loss: 0.000980936437835681\n",
            "Epoch 48 Loss: 0.0009435655797555094\n",
            "Epoch 49 Loss: 0.0009069607975769262\n",
            "Epoch 50 Loss: 0.0008713049878719167\n",
            "Epoch 51 Loss: 0.0008369501648019626\n",
            "Epoch 52 Loss: 0.0008041149926166227\n",
            "Epoch 53 Loss: 0.0007728409747988054\n",
            "Epoch 54 Loss: 0.000743198205266832\n",
            "Epoch 55 Loss: 0.0007152506612123389\n",
            "Epoch 56 Loss: 0.0006889108883010314\n",
            "Epoch 57 Loss: 0.0006638789831903111\n",
            "Epoch 58 Loss: 0.0006397455974346216\n",
            "Epoch 59 Loss: 0.0006161609655730672\n",
            "Epoch 60 Loss: 0.0005929748510815677\n",
            "Epoch 61 Loss: 0.000570297033426325\n",
            "Epoch 62 Loss: 0.0005484294216781402\n",
            "Epoch 63 Loss: 0.0005276979878453367\n",
            "Epoch 64 Loss: 0.0005083269161554942\n",
            "Epoch 65 Loss: 0.0004904086890101981\n",
            "Epoch 66 Loss: 0.00047394783880777943\n",
            "Epoch 67 Loss: 0.00045891715505327175\n",
            "Epoch 68 Loss: 0.0004452593125103746\n",
            "Epoch 69 Loss: 0.00043284861088838843\n",
            "Epoch 70 Loss: 0.00042150974132810495\n",
            "Epoch 71 Loss: 0.0004110703512045813\n",
            "Epoch 72 Loss: 0.0004014064015744759\n",
            "Epoch 73 Loss: 0.00039246720915365926\n",
            "Epoch 74 Loss: 0.00038426069156384513\n",
            "Epoch 75 Loss: 0.000376786861013057\n",
            "Epoch 76 Loss: 0.000370009564021012\n",
            "Epoch 77 Loss: 0.0003638287299251677\n",
            "Epoch 78 Loss: 0.0003580971840374233\n",
            "Epoch 79 Loss: 0.00035265527515626334\n",
            "Epoch 80 Loss: 0.0003473630963674121\n",
            "Epoch 81 Loss: 0.0003421169481101058\n",
            "Epoch 82 Loss: 0.00033684473124185964\n",
            "Epoch 83 Loss: 0.0003315186348991741\n",
            "Epoch 84 Loss: 0.0003261280519675744\n",
            "Epoch 85 Loss: 0.00032067073563972395\n",
            "Epoch 86 Loss: 0.000315162150753603\n",
            "Epoch 87 Loss: 0.0003096132652339299\n",
            "Epoch 88 Loss: 0.00030401817974462606\n",
            "Epoch 89 Loss: 0.0002983760753318089\n",
            "Epoch 90 Loss: 0.00029267960455135956\n",
            "Epoch 91 Loss: 0.00028690327745918743\n",
            "Epoch 92 Loss: 0.0002810365815951936\n",
            "Epoch 93 Loss: 0.0002750608124779674\n",
            "Epoch 94 Loss: 0.00026896868910177284\n",
            "Epoch 95 Loss: 0.0002627729884946277\n",
            "Epoch 96 Loss: 0.0002564886930799271\n",
            "Epoch 97 Loss: 0.0002501535293413527\n",
            "Epoch 98 Loss: 0.00024381000049689542\n",
            "Epoch 99 Loss: 0.0002375004310123868\n",
            "Epoch 100 Loss: 0.00023126826150705705\n",
            "Epoch 101 Loss: 0.0002251709748449757\n",
            "Epoch 102 Loss: 0.00021929383197892907\n",
            "Epoch 103 Loss: 0.00021374573936862066\n",
            "Epoch 104 Loss: 0.00020862839973271973\n",
            "Epoch 105 Loss: 0.00020398462446142565\n",
            "Epoch 106 Loss: 0.00019976980356060765\n",
            "Epoch 107 Loss: 0.0001959172742267171\n",
            "Epoch 108 Loss: 0.00019241751450425415\n",
            "Epoch 109 Loss: 0.00018935052926990372\n",
            "Epoch 110 Loss: 0.00018678700924210879\n",
            "Epoch 111 Loss: 0.00018463566980167763\n",
            "Epoch 112 Loss: 0.00018264609979667135\n",
            "Epoch 113 Loss: 0.00018059838081543872\n",
            "Epoch 114 Loss: 0.00017850689016413185\n",
            "Epoch 115 Loss: 0.0001765314675617555\n",
            "Epoch 116 Loss: 0.00017478772118967575\n",
            "Epoch 117 Loss: 0.00017325047428653229\n",
            "Epoch 118 Loss: 0.00017189754732546906\n",
            "Epoch 119 Loss: 0.00017083630690803103\n",
            "Epoch 120 Loss: 0.00017019279501885264\n",
            "Epoch 121 Loss: 0.00016984878170384998\n",
            "Epoch 122 Loss: 0.00016935227613501188\n",
            "Epoch 123 Loss: 0.00016824278361210224\n",
            "Epoch 124 Loss: 0.00016639484431697885\n",
            "Epoch 125 Loss: 0.00016399570637523863\n",
            "Epoch 126 Loss: 0.00016126816532596164\n",
            "Epoch 127 Loss: 0.0001583472803198292\n",
            "Epoch 128 Loss: 0.0001552554716591334\n",
            "Epoch 129 Loss: 0.0001519423808692715\n",
            "Epoch 130 Loss: 0.0001483509738118618\n",
            "Epoch 131 Loss: 0.0001444389645540073\n",
            "Epoch 132 Loss: 0.00014021174056505622\n",
            "Epoch 133 Loss: 0.00013578361592999662\n",
            "Epoch 134 Loss: 0.00013136134257056727\n",
            "Epoch 135 Loss: 0.0001271767388954708\n",
            "Epoch 136 Loss: 0.00012336263622392854\n",
            "Epoch 137 Loss: 0.00011988663661695893\n",
            "Epoch 138 Loss: 0.00011657375781603467\n",
            "Epoch 139 Loss: 0.00011332482181593905\n",
            "Epoch 140 Loss: 0.0001104683912213267\n",
            "Epoch 141 Loss: 0.000108524661408476\n",
            "Epoch 142 Loss: 0.00010727568750591277\n",
            "Epoch 143 Loss: 0.00010621520040767332\n",
            "Epoch 144 Loss: 0.00010529937632327413\n",
            "Epoch 145 Loss: 0.00010462121745310396\n",
            "Epoch 146 Loss: 0.00010446922205291445\n",
            "Epoch 147 Loss: 0.00010502373368558179\n",
            "Epoch 148 Loss: 0.00010579035938284191\n",
            "Epoch 149 Loss: 0.0001059990672092162\n",
            "Epoch 150 Loss: 0.0001054665494154716\n",
            "Epoch 151 Loss: 0.00010446054528291848\n",
            "Epoch 152 Loss: 0.00010324051124794271\n",
            "Epoch 153 Loss: 0.00010194317906558846\n",
            "Epoch 154 Loss: 0.00010063589517857374\n",
            "Epoch 155 Loss: 9.932775223820339e-05\n",
            "Epoch 156 Loss: 9.80440390097957e-05\n",
            "Epoch 157 Loss: 9.678313225130661e-05\n",
            "Epoch 158 Loss: 9.555088642528055e-05\n",
            "Epoch 159 Loss: 9.434983962016613e-05\n",
            "Epoch 160 Loss: 9.318563729704043e-05\n",
            "Epoch 161 Loss: 9.205744440229884e-05\n",
            "Epoch 162 Loss: 9.096296268631588e-05\n",
            "Epoch 163 Loss: 8.991169759448339e-05\n",
            "Epoch 164 Loss: 8.889346828975084e-05\n",
            "Epoch 165 Loss: 8.79073629015412e-05\n",
            "Epoch 166 Loss: 8.696445412451818e-05\n",
            "Epoch 167 Loss: 8.603574268790652e-05\n",
            "Epoch 168 Loss: 8.515146816199178e-05\n",
            "Epoch 169 Loss: 8.428469136898669e-05\n",
            "Epoch 170 Loss: 8.345296615467009e-05\n",
            "Epoch 171 Loss: 8.263548392695765e-05\n",
            "Epoch 172 Loss: 8.184022540892505e-05\n",
            "Epoch 173 Loss: 8.106769614394649e-05\n",
            "Epoch 174 Loss: 8.031806790350298e-05\n",
            "Epoch 175 Loss: 7.958365041848743e-05\n",
            "Epoch 176 Loss: 7.886701824383753e-05\n",
            "Epoch 177 Loss: 7.816273480588845e-05\n",
            "Epoch 178 Loss: 7.74851854674553e-05\n",
            "Epoch 179 Loss: 7.681406012307855e-05\n",
            "Epoch 180 Loss: 7.61682220003073e-05\n",
            "Epoch 181 Loss: 7.552871941665687e-05\n",
            "Epoch 182 Loss: 7.490650210192304e-05\n",
            "Epoch 183 Loss: 7.429956200636689e-05\n",
            "Epoch 184 Loss: 7.371200393402528e-05\n",
            "Epoch 185 Loss: 7.312805575828511e-05\n",
            "Epoch 186 Loss: 7.256121459802956e-05\n",
            "Epoch 187 Loss: 7.200670514872435e-05\n",
            "Epoch 188 Loss: 7.147102334721332e-05\n",
            "Epoch 189 Loss: 7.094072011321378e-05\n",
            "Epoch 190 Loss: 7.042241511554736e-05\n",
            "Epoch 191 Loss: 6.991592841435655e-05\n",
            "Epoch 192 Loss: 6.942413721404682e-05\n",
            "Epoch 193 Loss: 6.893857957476262e-05\n",
            "Epoch 194 Loss: 6.845993977631127e-05\n",
            "Epoch 195 Loss: 6.799777543663234e-05\n",
            "Epoch 196 Loss: 6.75424781824674e-05\n",
            "Epoch 197 Loss: 6.709548862078711e-05\n",
            "Epoch 198 Loss: 6.665533927403187e-05\n",
            "Epoch 199 Loss: 6.622494396199434e-05\n",
            "Epoch 200 Loss: 6.580693214935022e-05\n",
            "Epoch 201 Loss: 6.538578244841751e-05\n",
            "Epoch 202 Loss: 6.497823097968247e-05\n",
            "Epoch 203 Loss: 6.45741299773255e-05\n",
            "Epoch 204 Loss: 6.418913384332311e-05\n",
            "Epoch 205 Loss: 6.379326446419843e-05\n",
            "Epoch 206 Loss: 6.340424121289402e-05\n",
            "Epoch 207 Loss: 6.302338111676427e-05\n",
            "Epoch 208 Loss: 6.266108235488503e-05\n",
            "Epoch 209 Loss: 6.228319142084357e-05\n",
            "Epoch 210 Loss: 6.191535866684459e-05\n",
            "Epoch 211 Loss: 6.155868350599755e-05\n",
            "Epoch 212 Loss: 6.118945284127118e-05\n",
            "Epoch 213 Loss: 6.0832715756076095e-05\n",
            "Epoch 214 Loss: 6.047556037679206e-05\n",
            "Epoch 215 Loss: 6.0121130119197056e-05\n",
            "Epoch 216 Loss: 5.9756294220617076e-05\n",
            "Epoch 217 Loss: 5.9387377537037995e-05\n",
            "Epoch 218 Loss: 5.901109138129248e-05\n",
            "Epoch 219 Loss: 5.8638680810491e-05\n",
            "Epoch 220 Loss: 5.8242396365666135e-05\n",
            "Epoch 221 Loss: 5.782107975117262e-05\n",
            "Epoch 222 Loss: 5.737117666900646e-05\n",
            "Epoch 223 Loss: 5.686978759981114e-05\n",
            "Epoch 224 Loss: 5.6302408346522975e-05\n",
            "Epoch 225 Loss: 5.5618072008865296e-05\n",
            "Epoch 226 Loss: 5.475470569710927e-05\n",
            "Epoch 227 Loss: 5.359767068928954e-05\n",
            "Epoch 228 Loss: 5.192415380079399e-05\n",
            "Epoch 229 Loss: 4.940778265238233e-05\n",
            "Epoch 230 Loss: 4.5620798871620975e-05\n",
            "Epoch 231 Loss: 4.0705521393174665e-05\n",
            "Epoch 232 Loss: 3.6662588953066054e-05\n",
            "Epoch 233 Loss: 3.6793329504532375e-05\n",
            "Epoch 234 Loss: 3.7524153570713006e-05\n",
            "Epoch 235 Loss: 3.856078161279878e-05\n",
            "Epoch 236 Loss: 4.074674067385212e-05\n",
            "Epoch 237 Loss: 4.312040914145782e-05\n",
            "Epoch 238 Loss: 4.460051002596978e-05\n",
            "Epoch 239 Loss: 4.445826268946901e-05\n",
            "Epoch 240 Loss: 4.271169007397897e-05\n",
            "Epoch 241 Loss: 3.991457710909116e-05\n",
            "Epoch 242 Loss: 3.745025015299915e-05\n",
            "Epoch 243 Loss: 3.6575880190055655e-05\n",
            "Epoch 244 Loss: 3.6028306288865935e-05\n",
            "Epoch 245 Loss: 3.3734380921785725e-05\n",
            "Epoch 246 Loss: 2.9979438895290827e-05\n",
            "Epoch 247 Loss: 2.9282611222302848e-05\n",
            "Epoch 248 Loss: 3.3272433906121336e-05\n",
            "Epoch 249 Loss: 3.733356845995516e-05\n",
            "Epoch 250 Loss: 3.93629951208703e-05\n",
            "Epoch 251 Loss: 3.792846068139734e-05\n",
            "Epoch 252 Loss: 3.5844526668611295e-05\n",
            "Epoch 253 Loss: 3.445867125582932e-05\n",
            "Epoch 254 Loss: 3.341250696182676e-05\n",
            "Epoch 255 Loss: 3.1968532381772886e-05\n",
            "Epoch 256 Loss: 3.0586771708670567e-05\n",
            "Epoch 257 Loss: 3.027469193860501e-05\n",
            "Epoch 258 Loss: 3.114990312707648e-05\n",
            "Epoch 259 Loss: 3.246987427632443e-05\n",
            "Epoch 260 Loss: 3.35070147397162e-05\n",
            "Epoch 261 Loss: 3.4060251357337826e-05\n",
            "Epoch 262 Loss: 3.400034949211029e-05\n",
            "Epoch 263 Loss: 3.377471305394908e-05\n",
            "Epoch 264 Loss: 3.371809284848983e-05\n",
            "Epoch 265 Loss: 3.3677508012669606e-05\n",
            "Epoch 266 Loss: 3.348377468524029e-05\n",
            "Epoch 267 Loss: 3.345591034390714e-05\n",
            "Epoch 268 Loss: 3.349598918415763e-05\n",
            "Epoch 269 Loss: 3.3277721582780046e-05\n",
            "Epoch 270 Loss: 3.329926963748384e-05\n",
            "Epoch 271 Loss: 3.344734361897097e-05\n",
            "Epoch 272 Loss: 3.31088232842564e-05\n",
            "Epoch 273 Loss: 3.319581714505245e-05\n",
            "Epoch 274 Loss: 3.3478148465027876e-05\n",
            "Epoch 275 Loss: 3.287126270284596e-05\n",
            "Epoch 276 Loss: 3.3143409945552565e-05\n",
            "Epoch 277 Loss: 3.347556439506896e-05\n",
            "Epoch 278 Loss: 3.2501941887333244e-05\n",
            "Epoch 279 Loss: 3.312295047777296e-05\n",
            "Epoch 280 Loss: 3.3355716946736864e-05\n",
            "Epoch 281 Loss: 3.204351835326012e-05\n",
            "Epoch 282 Loss: 3.305345181226995e-05\n",
            "Epoch 283 Loss: 3.3230766555710284e-05\n",
            "Epoch 284 Loss: 3.1499005906569306e-05\n",
            "Epoch 285 Loss: 3.2886548406821836e-05\n",
            "Epoch 286 Loss: 3.334833547526306e-05\n",
            "Epoch 287 Loss: 3.083395207885544e-05\n",
            "Epoch 288 Loss: 3.249395212817368e-05\n",
            "Epoch 289 Loss: 3.401366845578008e-05\n",
            "Epoch 290 Loss: 3.0067140390500063e-05\n",
            "Epoch 291 Loss: 3.161037543783044e-05\n",
            "Epoch 292 Loss: 3.546288955181764e-05\n",
            "Epoch 293 Loss: 2.9439206846324534e-05\n",
            "Epoch 294 Loss: 3.0128649397286623e-05\n",
            "Epoch 295 Loss: 3.6816175895916235e-05\n",
            "Epoch 296 Loss: 2.958180264463935e-05\n",
            "Epoch 297 Loss: 2.8475890217892882e-05\n",
            "Epoch 298 Loss: 3.578742075699774e-05\n",
            "Epoch 299 Loss: 3.2210655874768286e-05\n"
          ]
        }
      ]
    },
    {
      "cell_type": "code",
      "source": [
        "test_data = outputs_norm_test * outputs.std() + outputs.mean()\n",
        "print(test_data)\n",
        "test_data_disp = test_data.to_numpy()[:,0]\n",
        "test_data_kappa = test_data.to_numpy()[:,1]"
      ],
      "metadata": {
        "colab": {
          "base_uri": "https://localhost:8080/"
        },
        "id": "NYI343W_kiCS",
        "outputId": "6d6bd9f1-bc80-4f7d-f4e4-176180c983ba"
      },
      "execution_count": 12,
      "outputs": [
        {
          "output_type": "stream",
          "name": "stdout",
          "text": [
            "      Displacement u [m]  Curvature kappa [m-1]\n",
            "398        -6.665149e-06              -0.000001\n",
            "3833       -3.351242e-06              -0.000001\n",
            "4836       -5.442968e-06              -0.000003\n",
            "4572       -1.357750e-05               0.000002\n",
            "636        -1.138772e-05               0.000001\n",
            "...                  ...                    ...\n",
            "4554       -4.835997e-07              -0.000007\n",
            "4807       -2.650817e-05               0.000004\n",
            "1073       -2.767174e-05               0.000004\n",
            "2906       -1.482808e-05               0.000002\n",
            "1357       -8.275232e-07              -0.000008\n",
            "\n",
            "[1500 rows x 2 columns]\n"
          ]
        }
      ]
    },
    {
      "cell_type": "code",
      "source": [
        "pred_data_norm = model.predict(inputs_norm_test)\n",
        "pred_data_norm_df = pd.DataFrame(pred_data_norm, columns = ['Displacement u [m]','Curvature kappa [m-1]'])\n",
        "pred_data_df = pred_data_norm_df * outputs.std() + outputs.mean()\n",
        "print(pred_data_df)\n",
        "pred_data_disp = pred_data_df.to_numpy()[:,0]\n",
        "pred_data_kappa = pred_data_df.to_numpy()[:,1]"
      ],
      "metadata": {
        "colab": {
          "base_uri": "https://localhost:8080/"
        },
        "id": "BD3OdSkxkk0c",
        "outputId": "25bab89b-a159-4a6f-9499-0a5d81d5248f"
      },
      "execution_count": 13,
      "outputs": [
        {
          "output_type": "stream",
          "name": "stdout",
          "text": [
            "47/47 [==============================] - 0s 1ms/step\n",
            "      Displacement u [m]  Curvature kappa [m-1]\n",
            "0          -6.662463e-06              -0.000001\n",
            "1          -3.338377e-06              -0.000001\n",
            "2          -5.434173e-06              -0.000003\n",
            "3          -1.361121e-05               0.000002\n",
            "4          -1.140867e-05               0.000001\n",
            "...                  ...                    ...\n",
            "1495       -5.424811e-07              -0.000008\n",
            "1496       -2.655722e-05               0.000004\n",
            "1497       -2.768279e-05               0.000004\n",
            "1498       -1.486402e-05               0.000002\n",
            "1499       -8.831183e-07              -0.000008\n",
            "\n",
            "[1500 rows x 2 columns]\n"
          ]
        }
      ]
    },
    {
      "cell_type": "code",
      "source": [
        "# Evaluate the mdoel on the test data and compare the error between predictions and true data\n",
        "import matplotlib.pyplot as plt\n",
        "plt.plot(test_data_disp, pred_data_disp, 'o')\n",
        "plt.show()\n",
        "plt.plot(test_data_kappa, pred_data_kappa, '*')\n",
        "plt.show()"
      ],
      "metadata": {
        "colab": {
          "base_uri": "https://localhost:8080/",
          "height": 561
        },
        "id": "yLIQgWNKkqm7",
        "outputId": "ae95cf91-9154-4e8f-f78c-5139c7ea6a36"
      },
      "execution_count": 14,
      "outputs": [
        {
          "output_type": "display_data",
          "data": {
            "text/plain": [
              "<Figure size 432x288 with 1 Axes>"
            ],
            "image/png": "[encoded data removed]"
          },
          "metadata": {
            "needs_background": "light"
          }
        },
        {
          "output_type": "display_data",
          "data": {
            "text/plain": [
              "<Figure size 432x288 with 1 Axes>"
            ],
            "image/png": "[encoded data removed]"
          },
          "metadata": {
            "needs_background": "light"
          }
        }
      ]
    },
    {
      "cell_type": "code",
      "source": [
        "import tensorflow as tf\n",
        "def F_model(model,x_norm,q_norm):\n",
        "    x_norm = tf.Variable(x_norm)\n",
        "    q_norm = tf.Variable(q_norm)\n",
        "    with tf.GradientTape() as g:\n",
        "      g.watch(x_norm)\n",
        "      with tf.GradientTape() as gg:\n",
        "        gg.watch(x_norm)\n",
        "        u_norm = model(tf.stack([x_norm,q_norm], axis=1))[:,0]\n",
        "      du_norm_dx_norm = gg.gradient(u_norm, x_norm)  \n",
        "    d2u_norm_dx_norm2 = g.gradient(du_norm_dx_norm, x_norm)  \n",
        "\n",
        "    # Chain rule\n",
        "    du_du_norm = outputs.std()[0]\n",
        "    dx_norm_dx = 1/inputs.std()[0]\n",
        "    d2u_dx2 =  du_du_norm *  d2u_norm_dx_norm2 * dx_norm_dx**2\n",
        "\n",
        "    u = u_norm * outputs.std()[0] + outputs.mean()[0]\n",
        "\n",
        "    return u, d2u_dx2"
      ],
      "metadata": {
        "id": "zt0LpU9jkvjV"
      },
      "execution_count": 15,
      "outputs": []
    },
    {
      "cell_type": "code",
      "source": [
        "x_norm = inputs_norm_test.to_numpy()[:,0]\n",
        "q_norm = inputs_norm_test.to_numpy()[:,1]\n",
        "[u, d2u_dx2] = F_model(model, x_norm, q_norm)\n",
        "# print(d2u_dx2)\n",
        "plt.plot(d2u_dx2, test_data_kappa, '*')\n",
        "plt.show()"
      ],
      "metadata": {
        "colab": {
          "base_uri": "https://localhost:8080/",
          "height": 289
        },
        "id": "eQ36ISUek0a9",
        "outputId": "89574454-1bdc-45e8-9574-16febe260ce8"
      },
      "execution_count": 16,
      "outputs": [
        {
          "output_type": "display_data",
          "data": {
            "text/plain": [
              "<Figure size 432x288 with 1 Axes>"
            ],
            "image/png": "[encoded data removed]"
          },
          "metadata": {
            "needs_background": "light"
          }
        }
      ]
    }
  ]
}