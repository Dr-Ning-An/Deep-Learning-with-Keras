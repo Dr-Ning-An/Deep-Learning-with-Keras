{
  "nbformat": 4,
  "nbformat_minor": 0,
  "metadata": {
    "colab": {
      "provenance": []
    },
    "kernelspec": {
      "name": "python3",
      "display_name": "Python 3"
    },
    "language_info": {
      "name": "python"
    }
  },
  "cells": [
    {
      "cell_type": "markdown",
      "source": [
        "### Download Data"
      ],
      "metadata": {
        "id": "T3tbTT37PHMJ"
      }
    },
    {
      "cell_type": "code",
      "execution_count": 1,
      "metadata": {
        "colab": {
          "base_uri": "https://localhost:8080/"
        },
        "id": "B23Dh_kzO-Mn",
        "outputId": "503cfe6b-898d-4c32-8a63-25e3647cafa2"
      },
      "outputs": [
        {
          "output_type": "execute_result",
          "data": {
            "text/plain": [
              "(5000, 4)"
            ]
          },
          "metadata": {},
          "execution_count": 1
        }
      ],
      "source": [
        "import pandas as pd\n",
        "import numpy as np\n",
        "# read data to pandas frame\n",
        "url = 'https://raw.githubusercontent.com/Dr-Ning-An/Deep-Learning-with-Keras/main/AIAAJ/FixedBeamData.csv'\n",
        "data = pd.read_csv(url)\n",
        "data.shape\n",
        "# print(data.head(5))"
      ]
    },
    {
      "cell_type": "code",
      "source": [
        "inputs = data.iloc[:, 0:2]\n",
        "# Normalize the inputs\n",
        "inputs_norm = (inputs - inputs.mean()) / inputs.std()\n",
        "n_inputs_norm = inputs_norm.shape[1]\n",
        "print(inputs_norm.head(5))\n",
        "outputs = data.iloc[:, 2:4]\n",
        "outputs_norm = (outputs - outputs.mean()) / outputs.std()\n",
        "n_outputs_norm = outputs_norm.shape[1]\n",
        "print(outputs_norm.head(5))"
      ],
      "metadata": {
        "colab": {
          "base_uri": "https://localhost:8080/"
        },
        "id": "BOYYshoKnWV9",
        "outputId": "b2a4e315-28b6-453c-cddf-8912624c8b73"
      },
      "execution_count": 2,
      "outputs": [
        {
          "output_type": "stream",
          "name": "stdout",
          "text": [
            "   Coordinate x [m]  Distributed load q [kN/m]\n",
            "0         -1.455816                  -1.561807\n",
            "1          0.923784                   1.380999\n",
            "2          1.618613                   1.443347\n",
            "3          1.435727                  -0.178383\n",
            "4         -1.290942                   0.628672\n",
            "   Displacement u [m]  Curvature kappa [m-1]\n",
            "0            1.231600              -0.666018\n",
            "1           -0.460458               0.218307\n",
            "2            1.293882              -2.480789\n",
            "3            1.116590              -1.089553\n",
            "4            0.761128              -0.853157\n"
          ]
        }
      ]
    },
    {
      "cell_type": "code",
      "source": [
        "import keras\n",
        "from keras.models import Sequential\n",
        "from keras.layers import Dense\n",
        "# define regression model\n",
        "def ANN_model():\n",
        "    # create model\n",
        "    model = Sequential()\n",
        "    model.add(Dense(20, activation='relu', input_shape=(n_inputs_norm,)))\n",
        "    model.add(Dense(20, activation='relu'))\n",
        "    model.add(Dense(20, activation='relu'))\n",
        "    model.add(Dense(n_outputs_norm))\n",
        "    \n",
        "    # compile model\n",
        "    model.compile(optimizer='adam', loss='mean_squared_error')\n",
        "    return model"
      ],
      "metadata": {
        "id": "nUXWqjwDopkt"
      },
      "execution_count": 3,
      "outputs": []
    },
    {
      "cell_type": "code",
      "source": [
        "# build the model\n",
        "model = ANN_model()"
      ],
      "metadata": {
        "id": "Y46UsbRPrqYQ"
      },
      "execution_count": 4,
      "outputs": []
    },
    {
      "cell_type": "code",
      "source": [
        "from sklearn.model_selection import train_test_split\n",
        "# Randomly split the data into a training and test sets by holding 30% of the data for testing.\n",
        "inputs_norm_train, inputs_norm_test, outputs_norm_train, outputs_norm_test = train_test_split(inputs_norm, outputs_norm, test_size = 0.3, random_state=42)\n",
        "# fit the model\n",
        "model.fit(inputs_norm_train, outputs_norm_train, epochs=100, batch_size=30)"
      ],
      "metadata": {
        "colab": {
          "base_uri": "https://localhost:8080/"
        },
        "id": "eusYdlHDr1BW",
        "outputId": "d0de7430-f6db-4381-b17d-5a170b83981c"
      },
      "execution_count": 7,
      "outputs": [
        {
          "output_type": "stream",
          "name": "stdout",
          "text": [
            "Epoch 1/100\n",
            "117/117 [==============================] - 0s 2ms/step - loss: 1.9043e-04\n",
            "Epoch 2/100\n",
            "117/117 [==============================] - 0s 2ms/step - loss: 1.8710e-04\n",
            "Epoch 3/100\n",
            "117/117 [==============================] - 0s 2ms/step - loss: 1.9922e-04\n",
            "Epoch 4/100\n",
            "117/117 [==============================] - 0s 3ms/step - loss: 1.9330e-04\n",
            "Epoch 5/100\n",
            "117/117 [==============================] - 0s 2ms/step - loss: 1.8382e-04\n",
            "Epoch 6/100\n",
            "117/117 [==============================] - 0s 2ms/step - loss: 1.8806e-04\n",
            "Epoch 7/100\n",
            "117/117 [==============================] - 0s 2ms/step - loss: 2.0604e-04\n",
            "Epoch 8/100\n",
            "117/117 [==============================] - 0s 2ms/step - loss: 1.9944e-04\n",
            "Epoch 9/100\n",
            "117/117 [==============================] - 0s 2ms/step - loss: 2.5072e-04\n",
            "Epoch 10/100\n",
            "117/117 [==============================] - 0s 2ms/step - loss: 1.8152e-04\n",
            "Epoch 11/100\n",
            "117/117 [==============================] - 0s 2ms/step - loss: 2.3552e-04\n",
            "Epoch 12/100\n",
            "117/117 [==============================] - 0s 2ms/step - loss: 2.5971e-04\n",
            "Epoch 13/100\n",
            "117/117 [==============================] - 0s 2ms/step - loss: 1.8299e-04\n",
            "Epoch 14/100\n",
            "117/117 [==============================] - 0s 2ms/step - loss: 2.2671e-04\n",
            "Epoch 15/100\n",
            "117/117 [==============================] - 0s 2ms/step - loss: 1.8014e-04\n",
            "Epoch 16/100\n",
            "117/117 [==============================] - 0s 2ms/step - loss: 1.9248e-04\n",
            "Epoch 17/100\n",
            "117/117 [==============================] - 0s 2ms/step - loss: 2.1095e-04\n",
            "Epoch 18/100\n",
            "117/117 [==============================] - 0s 2ms/step - loss: 1.9083e-04\n",
            "Epoch 19/100\n",
            "117/117 [==============================] - 0s 2ms/step - loss: 1.9527e-04\n",
            "Epoch 20/100\n",
            "117/117 [==============================] - 0s 2ms/step - loss: 1.7460e-04\n",
            "Epoch 21/100\n",
            "117/117 [==============================] - 0s 2ms/step - loss: 1.8149e-04\n",
            "Epoch 22/100\n",
            "117/117 [==============================] - 0s 2ms/step - loss: 1.9651e-04\n",
            "Epoch 23/100\n",
            "117/117 [==============================] - 0s 3ms/step - loss: 1.6943e-04\n",
            "Epoch 24/100\n",
            "117/117 [==============================] - 0s 2ms/step - loss: 2.0974e-04\n",
            "Epoch 25/100\n",
            "117/117 [==============================] - 0s 2ms/step - loss: 1.5934e-04\n",
            "Epoch 26/100\n",
            "117/117 [==============================] - 0s 2ms/step - loss: 1.8784e-04\n",
            "Epoch 27/100\n",
            "117/117 [==============================] - 0s 2ms/step - loss: 1.8328e-04\n",
            "Epoch 28/100\n",
            "117/117 [==============================] - 0s 2ms/step - loss: 2.5170e-04\n",
            "Epoch 29/100\n",
            "117/117 [==============================] - 0s 2ms/step - loss: 1.9181e-04\n",
            "Epoch 30/100\n",
            "117/117 [==============================] - 0s 2ms/step - loss: 2.0948e-04\n",
            "Epoch 31/100\n",
            "117/117 [==============================] - 0s 2ms/step - loss: 1.6756e-04\n",
            "Epoch 32/100\n",
            "117/117 [==============================] - 0s 2ms/step - loss: 1.5005e-04\n",
            "Epoch 33/100\n",
            "117/117 [==============================] - 0s 2ms/step - loss: 1.7684e-04\n",
            "Epoch 34/100\n",
            "117/117 [==============================] - 0s 2ms/step - loss: 1.5524e-04\n",
            "Epoch 35/100\n",
            "117/117 [==============================] - 0s 2ms/step - loss: 1.5658e-04\n",
            "Epoch 36/100\n",
            "117/117 [==============================] - 0s 2ms/step - loss: 2.0838e-04\n",
            "Epoch 37/100\n",
            "117/117 [==============================] - 0s 2ms/step - loss: 1.9317e-04\n",
            "Epoch 38/100\n",
            "117/117 [==============================] - 0s 2ms/step - loss: 1.5857e-04\n",
            "Epoch 39/100\n",
            "117/117 [==============================] - 0s 2ms/step - loss: 1.4794e-04\n",
            "Epoch 40/100\n",
            "117/117 [==============================] - 0s 2ms/step - loss: 2.0992e-04\n",
            "Epoch 41/100\n",
            "117/117 [==============================] - 0s 2ms/step - loss: 1.9741e-04\n",
            "Epoch 42/100\n",
            "117/117 [==============================] - 0s 2ms/step - loss: 1.6577e-04\n",
            "Epoch 43/100\n",
            "117/117 [==============================] - 0s 2ms/step - loss: 2.0204e-04\n",
            "Epoch 44/100\n",
            "117/117 [==============================] - 0s 2ms/step - loss: 1.7575e-04\n",
            "Epoch 45/100\n",
            "117/117 [==============================] - 0s 2ms/step - loss: 1.5546e-04\n",
            "Epoch 46/100\n",
            "117/117 [==============================] - 0s 2ms/step - loss: 2.3247e-04\n",
            "Epoch 47/100\n",
            "117/117 [==============================] - 0s 2ms/step - loss: 3.6106e-04\n",
            "Epoch 48/100\n",
            "117/117 [==============================] - 0s 2ms/step - loss: 1.2796e-04\n",
            "Epoch 49/100\n",
            "117/117 [==============================] - 0s 2ms/step - loss: 1.6850e-04\n",
            "Epoch 50/100\n",
            "117/117 [==============================] - 0s 2ms/step - loss: 1.7908e-04\n",
            "Epoch 51/100\n",
            "117/117 [==============================] - 0s 2ms/step - loss: 1.5157e-04\n",
            "Epoch 52/100\n",
            "117/117 [==============================] - 0s 3ms/step - loss: 1.7897e-04\n",
            "Epoch 53/100\n",
            "117/117 [==============================] - 0s 3ms/step - loss: 1.7347e-04\n",
            "Epoch 54/100\n",
            "117/117 [==============================] - 0s 3ms/step - loss: 1.7472e-04\n",
            "Epoch 55/100\n",
            "117/117 [==============================] - 0s 4ms/step - loss: 1.5175e-04\n",
            "Epoch 56/100\n",
            "117/117 [==============================] - 0s 4ms/step - loss: 1.3436e-04\n",
            "Epoch 57/100\n",
            "117/117 [==============================] - 0s 3ms/step - loss: 1.5094e-04\n",
            "Epoch 58/100\n",
            "117/117 [==============================] - 0s 4ms/step - loss: 1.7273e-04\n",
            "Epoch 59/100\n",
            "117/117 [==============================] - 0s 3ms/step - loss: 1.8115e-04\n",
            "Epoch 60/100\n",
            "117/117 [==============================] - 0s 4ms/step - loss: 2.4175e-04\n",
            "Epoch 61/100\n",
            "117/117 [==============================] - 0s 3ms/step - loss: 1.2470e-04\n",
            "Epoch 62/100\n",
            "117/117 [==============================] - 1s 5ms/step - loss: 1.1960e-04\n",
            "Epoch 63/100\n",
            "117/117 [==============================] - 0s 4ms/step - loss: 1.5728e-04\n",
            "Epoch 64/100\n",
            "117/117 [==============================] - 0s 3ms/step - loss: 1.4284e-04\n",
            "Epoch 65/100\n",
            "117/117 [==============================] - 0s 4ms/step - loss: 1.7617e-04\n",
            "Epoch 66/100\n",
            "117/117 [==============================] - 1s 4ms/step - loss: 1.2652e-04\n",
            "Epoch 67/100\n",
            "117/117 [==============================] - 0s 4ms/step - loss: 1.8348e-04\n",
            "Epoch 68/100\n",
            "117/117 [==============================] - 0s 4ms/step - loss: 2.4610e-04\n",
            "Epoch 69/100\n",
            "117/117 [==============================] - 1s 6ms/step - loss: 2.1073e-04\n",
            "Epoch 70/100\n",
            "117/117 [==============================] - 0s 3ms/step - loss: 1.2985e-04\n",
            "Epoch 71/100\n",
            "117/117 [==============================] - 0s 4ms/step - loss: 1.3880e-04\n",
            "Epoch 72/100\n",
            "117/117 [==============================] - 0s 3ms/step - loss: 1.5803e-04\n",
            "Epoch 73/100\n",
            "117/117 [==============================] - 1s 4ms/step - loss: 1.5229e-04\n",
            "Epoch 74/100\n",
            "117/117 [==============================] - 0s 3ms/step - loss: 1.6318e-04\n",
            "Epoch 75/100\n",
            "117/117 [==============================] - 0s 3ms/step - loss: 1.3784e-04\n",
            "Epoch 76/100\n",
            "117/117 [==============================] - 0s 3ms/step - loss: 1.2630e-04\n",
            "Epoch 77/100\n",
            "117/117 [==============================] - 0s 2ms/step - loss: 2.4049e-04\n",
            "Epoch 78/100\n",
            "117/117 [==============================] - 0s 3ms/step - loss: 1.3601e-04\n",
            "Epoch 79/100\n",
            "117/117 [==============================] - 0s 3ms/step - loss: 1.2010e-04\n",
            "Epoch 80/100\n",
            "117/117 [==============================] - 0s 4ms/step - loss: 1.3860e-04\n",
            "Epoch 81/100\n",
            "117/117 [==============================] - 0s 4ms/step - loss: 1.6299e-04\n",
            "Epoch 82/100\n",
            "117/117 [==============================] - 0s 3ms/step - loss: 1.4458e-04\n",
            "Epoch 83/100\n",
            "117/117 [==============================] - 0s 4ms/step - loss: 1.3066e-04\n",
            "Epoch 84/100\n",
            "117/117 [==============================] - 1s 5ms/step - loss: 1.2723e-04\n",
            "Epoch 85/100\n",
            "117/117 [==============================] - 0s 3ms/step - loss: 1.2226e-04\n",
            "Epoch 86/100\n",
            "117/117 [==============================] - 1s 5ms/step - loss: 1.5387e-04\n",
            "Epoch 87/100\n",
            "117/117 [==============================] - 0s 4ms/step - loss: 1.3793e-04\n",
            "Epoch 88/100\n",
            "117/117 [==============================] - 0s 4ms/step - loss: 1.4781e-04\n",
            "Epoch 89/100\n",
            "117/117 [==============================] - 0s 3ms/step - loss: 1.7746e-04\n",
            "Epoch 90/100\n",
            "117/117 [==============================] - 0s 3ms/step - loss: 1.5407e-04\n",
            "Epoch 91/100\n",
            "117/117 [==============================] - 0s 4ms/step - loss: 1.5195e-04\n",
            "Epoch 92/100\n",
            "117/117 [==============================] - 1s 4ms/step - loss: 1.1120e-04\n",
            "Epoch 93/100\n",
            "117/117 [==============================] - 0s 3ms/step - loss: 1.6979e-04\n",
            "Epoch 94/100\n",
            "117/117 [==============================] - 1s 5ms/step - loss: 1.3771e-04\n",
            "Epoch 95/100\n",
            "117/117 [==============================] - 0s 3ms/step - loss: 1.3344e-04\n",
            "Epoch 96/100\n",
            "117/117 [==============================] - 0s 4ms/step - loss: 1.9151e-04\n",
            "Epoch 97/100\n",
            "117/117 [==============================] - 1s 5ms/step - loss: 1.4577e-04\n",
            "Epoch 98/100\n",
            "117/117 [==============================] - 0s 3ms/step - loss: 1.3137e-04\n",
            "Epoch 99/100\n",
            "117/117 [==============================] - 0s 4ms/step - loss: 1.2823e-04\n",
            "Epoch 100/100\n",
            "117/117 [==============================] - 0s 3ms/step - loss: 1.5087e-04\n"
          ]
        },
        {
          "output_type": "execute_result",
          "data": {
            "text/plain": [
              "<keras.callbacks.History at 0x7f2f688897c0>"
            ]
          },
          "metadata": {},
          "execution_count": 7
        }
      ]
    },
    {
      "cell_type": "code",
      "source": [
        "# Evaluate the mdoel on the test data and compare the error between predictions and true data\n",
        "import matplotlib.pyplot as plt\n",
        "true_data = outputs_norm_test  * outputs.std() + outputs.mean()\n",
        "print(true_data)\n",
        "true_data_disp = true_data.to_numpy()[:,0]\n",
        "true_data_cur = true_data.to_numpy()[:,1]\n",
        "pred_data = model.predict(inputs_norm_test)\n",
        "pred_data_df = pd.DataFrame(pred_data, columns = ['Displacement u [m]','Curvature kappa [m-1]'])\n",
        "pred_data_df = pred_data_df  * outputs.std() + outputs.mean()\n",
        "print(pred_data_df)\n",
        "pred_data_disp = pred_data_df.to_numpy()[:,0]\n",
        "pred_data_cur = pred_data_df.to_numpy()[:,1]\n",
        "plt.plot(true_data_disp, pred_data_disp, 'o')\n",
        "plt.show()\n",
        "plt.plot(true_data_cur, pred_data_cur, '*')\n",
        "plt.show()"
      ],
      "metadata": {
        "colab": {
          "base_uri": "https://localhost:8080/",
          "height": 1000
        },
        "id": "ctR0f-Citc5x",
        "outputId": "1a8ec825-7026-4877-fe0c-23576cf36c5f"
      },
      "execution_count": 9,
      "outputs": [
        {
          "output_type": "stream",
          "name": "stdout",
          "text": [
            "      Displacement u [m]  Curvature kappa [m-1]\n",
            "1501           -0.000018           2.189027e-06\n",
            "2586           -0.000028           4.417503e-06\n",
            "2653           -0.000011           1.687692e-07\n",
            "1055           -0.000007          -1.228831e-06\n",
            "705            -0.000024           2.719783e-06\n",
            "...                  ...                    ...\n",
            "3563           -0.000007           3.566781e-07\n",
            "1538           -0.000005          -5.187704e-06\n",
            "1837           -0.000007          -2.813252e-06\n",
            "2380           -0.000016           2.080151e-07\n",
            "1912           -0.000020           2.393105e-06\n",
            "\n",
            "[1500 rows x 2 columns]\n",
            "47/47 [==============================] - 0s 3ms/step\n",
            "      Displacement u [m]  Curvature kappa [m-1]\n",
            "0              -0.000018           2.273943e-06\n",
            "1              -0.000028           4.430930e-06\n",
            "2              -0.000011           2.319116e-07\n",
            "3              -0.000007          -1.212303e-06\n",
            "4              -0.000024           2.725641e-06\n",
            "...                  ...                    ...\n",
            "1495           -0.000007           4.084514e-07\n",
            "1496           -0.000005          -5.179164e-06\n",
            "1497           -0.000007          -2.812666e-06\n",
            "1498           -0.000016           2.784814e-07\n",
            "1499           -0.000020           2.379470e-06\n",
            "\n",
            "[1500 rows x 2 columns]\n"
          ]
        },
        {
          "output_type": "display_data",
          "data": {
            "text/plain": [
              "<Figure size 432x288 with 1 Axes>"
            ],
            "image/png": "[encoded data removed]"
          },
          "metadata": {
            "needs_background": "light"
          }
        },
        {
          "output_type": "display_data",
          "data": {
            "text/plain": [
              "<Figure size 432x288 with 1 Axes>"
            ],
            "image/png": "[encoded data removed]"
          },
          "metadata": {
            "needs_background": "light"
          }
        }
      ]
    }
  ]
}