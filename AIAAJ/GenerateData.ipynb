{
  "nbformat": 4,
  "nbformat_minor": 0,
  "metadata": {
    "colab": {
      "provenance": []
    },
    "kernelspec": {
      "name": "python3",
      "display_name": "Python 3"
    },
    "language_info": {
      "name": "python"
    }
  },
  "cells": [
    {
      "cell_type": "markdown",
      "source": [
        "### Create data"
      ],
      "metadata": {
        "id": "FNwfdR_O6KqW"
      }
    },
    {
      "cell_type": "code",
      "execution_count": 1,
      "metadata": {
        "colab": {
          "base_uri": "https://localhost:8080/",
          "height": 17
        },
        "id": "ShyXavu5jjda",
        "outputId": "4325cf73-f2ac-4a3f-9329-fd78499eca6b"
      },
      "outputs": [
        {
          "output_type": "display_data",
          "data": {
            "text/plain": [
              "<IPython.core.display.Javascript object>"
            ],
            "application/javascript": [
              "\n",
              "    async function download(id, filename, size) {\n",
              "      if (!google.colab.kernel.accessAllowed) {\n",
              "        return;\n",
              "      }\n",
              "      const div = document.createElement('div');\n",
              "      const label = document.createElement('label');\n",
              "      label.textContent = `Downloading \"${filename}\": `;\n",
              "      div.appendChild(label);\n",
              "      const progress = document.createElement('progress');\n",
              "      progress.max = size;\n",
              "      div.appendChild(progress);\n",
              "      document.body.appendChild(div);\n",
              "\n",
              "      const buffers = [];\n",
              "      let downloaded = 0;\n",
              "\n",
              "      const channel = await google.colab.kernel.comms.open(id);\n",
              "      // Send a message to notify the kernel that we're ready.\n",
              "      channel.send({})\n",
              "\n",
              "      for await (const message of channel.messages) {\n",
              "        // Send a message to notify the kernel that we're ready.\n",
              "        channel.send({})\n",
              "        if (message.buffers) {\n",
              "          for (const buffer of message.buffers) {\n",
              "            buffers.push(buffer);\n",
              "            downloaded += buffer.byteLength;\n",
              "            progress.value = downloaded;\n",
              "          }\n",
              "        }\n",
              "      }\n",
              "      const blob = new Blob(buffers, {type: 'application/binary'});\n",
              "      const a = document.createElement('a');\n",
              "      a.href = window.URL.createObjectURL(blob);\n",
              "      a.download = filename;\n",
              "      div.appendChild(a);\n",
              "      a.click();\n",
              "      div.remove();\n",
              "    }\n",
              "  "
            ]
          },
          "metadata": {}
        },
        {
          "output_type": "display_data",
          "data": {
            "text/plain": [
              "<IPython.core.display.Javascript object>"
            ],
            "application/javascript": [
              "download(\"download_d8ca97df-c03d-4706-8ce3-cd89f7b0c638\", \"FixedBeamData.csv\", 414577)"
            ]
          },
          "metadata": {}
        }
      ],
      "source": [
        "import numpy as np\n",
        "from google.colab import files\n",
        "np.random.seed(1234)\n",
        "n = 5000 # size of data \n",
        "x = np.linspace(0, 10, n) # Coordinate\n",
        "q = np.linspace(5, 15, n) # Distributed load\n",
        "u = np.zeros(n) # Displacement\n",
        "kappa = np.zeros(n) # Curvature\n",
        "from sklearn.utils import shuffle\n",
        "x, q = shuffle(x, q, random_state=0)\n",
        "# parameters\n",
        "L = 10 # m\n",
        "EI = 10E6 # kN m2\n",
        "file = open('FixedBeamData.csv', 'w')\n",
        "file.write('Coordinate x [m]' + ',' + 'Distributed load q [kN/m]' + ',' + 'Displacement u [m]' + ',' + 'Curvature kappa [m-1]' + '\\n')\n",
        "for i in range(n):\n",
        "    u[i] = -q[i] * L**4 / 24.0 / EI * (x[i]/L - x[i]**2/L**2)**2\n",
        "    kappa[i] = -q[i] * L**4 / 24.0 / EI * (2.0/L**2 + 12.0*x[i]**2/L**4 - 12.0*x[i]/L**3)\n",
        "    file.write(str(x[i]) + ',' + str(q[i]) + ',' + str(u[i]) + ',' + str(kappa[i]) + '\\n')\n",
        "file.close()\n",
        "files.download('FixedBeamData.csv') "
      ]
    },
    {
      "cell_type": "markdown",
      "source": [],
      "metadata": {
        "id": "xgPDPiQT6J3h"
      }
    }
  ]
}